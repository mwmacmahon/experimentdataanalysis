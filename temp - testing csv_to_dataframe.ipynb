{
 "cells": [
  {
   "cell_type": "code",
   "execution_count": 1,
   "metadata": {
    "collapsed": true
   },
   "outputs": [],
   "source": [
    "# General imports\n",
    "%matplotlib inline\n",
    "import matplotlib.pyplot as plt\n",
    "\n",
    "import experimentdataanalysis.analysis.dataframe_plotting as dfplot"
   ]
  },
  {
   "cell_type": "code",
   "execution_count": 2,
   "metadata": {
    "collapsed": true
   },
   "outputs": [],
   "source": [
    "# import jtplot submodule from jupyterthemes IF installed\n",
    "import importlib\n",
    "jtplot_found = importlib.util.find_spec(\"jupyterthemes.jtplot\") is not None\n",
    "if jtplot_found:\n",
    "    from jupyterthemes import jtplot\n",
    "    # - currently installed theme will be used to\n",
    "    jtplot.style(ticks=False, grid=False, fscale=1.6)\n",
    "    # set the default figure size\n",
    "    jtplot.figsize(x=6., y=6.)\n",
    "    # needed to avoid spurious error messages with imshow...\n",
    "    import warnings\n",
    "    warnings.filterwarnings(\"ignore\", category=UserWarning, module=\"matplotlib\")\n",
    "    "
   ]
  },
  {
   "cell_type": "code",
   "execution_count": 3,
   "metadata": {
    "collapsed": true
   },
   "outputs": [],
   "source": [
    "import os\n",
    "\n",
    "import numpy as np\n",
    "import pandas as pd\n",
    "\n",
    "import experimentdataanalysis.data_io.metadataparsing as metadataparsing\n",
    "\n",
    "def parse_filepath_and_header(filepath, header_string=None,\n",
    "                              parsing_keyword_lists=None,\n",
    "                              existing_metadata_dict=None):\n",
    "    if existing_metadata_dict is None:\n",
    "        existing_metadata_dict = {}\n",
    "    metadata_dict = metadataparsing.analyze_scan_filepath(filepath,\n",
    "                                                          existing_metadata_dict,\n",
    "                                                          parsing_keyword_lists)\n",
    "    if header_string is not None:\n",
    "        metadataparsing.analyze_string_for_dict_pairs(header_string, metadata_dict)\n",
    "    return metadata_dict\n",
    "\n",
    "def process_directory_csvs_to_dataframes(parent_dir,\n",
    "                                         filename_key='.dat',\n",
    "                                         run_criteria='directory',\n",
    "                                         pandas_read_csv_kwargs={},\n",
    "                                         parsing_keyword_lists=None,\n",
    "                                         metadata_processing_fcns=[],\n",
    "                                         metadata_filter_fcns=[],\n",
    "                                         metadata_tag_to_column_list=[],\n",
    "                                         dataframe_processing_fcns=[]):\n",
    "    \"\"\"Searches given directory for data files and parses them into\n",
    "    pandas dataframes using pandas' read_csv function. Performs the\n",
    "    following processing functions for each csv file found:\n",
    "    1. Creates a metadata dict using the data_io.metadataparsing\n",
    "       package and optionally the user-provided parsing_keyword_lists.\n",
    "    2. Determines a \"Run ID\" key in the metadata based on the\n",
    "       user-provided 'run_criteria', by default based on file's directory.\n",
    "    2. Optionally calls all functions in user-provided\n",
    "       metadata_processing_fcns list with metadata dict as parameter.\n",
    "    3. Optionally calls all functions in user-provided\n",
    "       metadata_filter_fcns list with metadata dict as parameter,\n",
    "       and aborts processing the file if any function\n",
    "       returns False.\n",
    "    4. Creates a pandas dataframe from the contents of the file,\n",
    "       optionally passing the user-provided pandas_read_csv_kwargs.\n",
    "    5. Optionally looks for all tuples of form\n",
    "       ('metadata tag', 'column name') in user-provided\n",
    "       metadata_tag_to_column_list, and for each creates a column\n",
    "       with the given name, with each row populated by the the \n",
    "       value corresponding to the metadata dict's associated tag.\n",
    "    6. Finally, optionally calls all functions in user-provided\n",
    "       dataframe_processing_fcns list with dataframe as parameter.\n",
    "       Any values returned by function are unused; editing of\n",
    "       dataframe generally requires use of pandas functions\n",
    "       with the 'inplace' keyword argument set to True.\n",
    "    The resulting lists of filenames, dataframes, and\n",
    "    metadata dicts are returned, omitting rows filtered out\n",
    "    via metadata_filter_fcns from all three lists.\n",
    "    \"\"\"\n",
    "    # LOAD AND NOMINALLY FILTER DATA:\n",
    "    unfiltered_filepath_list = []\n",
    "    for dirpath, dirnames, filenames in os.walk(parent_dir):\n",
    "        for filename in filenames:\n",
    "            if filename_key in filename:\n",
    "                unfiltered_filepath_list.append(os.path.join(dirpath, filename))\n",
    "    if run_criteria == 'directory':\n",
    "        last_dir = ''\n",
    "        run_counter = -1        \n",
    "    else:\n",
    "        raise NotImplementedError(\"currently only supported run \" +\n",
    "                                  \"criteria is grouping-by-directory\")\n",
    "    num_headerlines = pandas_read_csv_kwargs['skiprows']\n",
    "    filtered_file_list_index = 0\n",
    "    filtered_filepath_list = []\n",
    "    file_metadata_list = []\n",
    "    file_dataframes_list = []\n",
    "    for filepath in unfiltered_filepath_list:\n",
    "        with open(filepath) as file_lines_iterator:\n",
    "            try:\n",
    "                header_lines = [next(file_lines_iterator)\n",
    "                                for line in range(num_headerlines)]\n",
    "                file_dataframe = \\\n",
    "                    pd.read_csv(filepath_or_buffer=file_lines_iterator,\n",
    "                                **pandas_read_csv_kwargs)\n",
    "            except StopIteration:\n",
    "                print(\"Problem encountered in process_directory_csvs_to_dataframes():\")\n",
    "                print(\"Tried to skip {} header lines, \".format(num_headerlines) +\n",
    "                      \"but file was too short. Skipping file...\")\n",
    "                print(\"Filepath: {}\".format(filepath))\n",
    "                continue\n",
    "            # TODO: catch other exceptions for read_csv errors?\n",
    "        # parse filepath, file header, and determine Run ID\n",
    "        file_metadata = parse_filepath_and_header(filepath,\n",
    "                                                  ''.join(header_lines),\n",
    "                                                  parsing_keyword_lists)\n",
    "        if run_criteria == 'directory':\n",
    "            current_dir = filepath.split('\\\\')[-2]\n",
    "            if current_dir != last_dir:\n",
    "                last_dir = current_dir\n",
    "                run_counter += 1\n",
    "            file_metadata['Run ID'] = run_counter\n",
    "\n",
    "        # metadata processing and filtering\n",
    "        for metadata_processing_fcn in metadata_processing_fcns:\n",
    "            metadata_processing_fcn(file_metadata)\n",
    "        if not all([metadata_filter_fcn(file_metadata)\n",
    "                    for metadata_filter_fcn in metadata_filter_fcns]):\n",
    "            continue\n",
    "\n",
    "        # dataframe processing\n",
    "        file_dataframe['file_index'] = filtered_file_list_index\n",
    "        for metadata_tag, column_name in metadata_tag_to_column_list:\n",
    "            if metadata_tag in file_metadata.keys():\n",
    "                file_dataframe[column_name] = file_metadata[metadata_tag]\n",
    "        for dataframe_processing_fcn in dataframe_processing_fcns:\n",
    "            dataframe_processing_fcn(file_dataframe)\n",
    "\n",
    "        filtered_filepath_list.append(filepath)\n",
    "        file_dataframes_list.append(file_dataframe)\n",
    "        file_metadata_list.append(file_metadata)\n",
    "        filtered_file_list_index += 1\n",
    "    return filtered_filepath_list, file_dataframes_list, file_metadata_list\n",
    "\n",
    "\n"
   ]
  },
  {
   "cell_type": "code",
   "execution_count": 4,
   "metadata": {},
   "outputs": [
    {
     "data": {
      "image/png": "[encoded data removed]",
      "text/plain": [
       "<matplotlib.figure.Figure at 0x2c67cb80240>"
      ]
     },
     "metadata": {},
     "output_type": "display_data"
    },
    {
     "data": {
      "text/html": [
       "<div>\n",
       "<table border=\"1\" class=\"dataframe\">\n",
       "  <thead>\n",
       "    <tr style=\"text-align: right;\">\n",
       "      <th></th>\n",
       "      <th></th>\n",
       "      <th></th>\n",
       "      <th>probe_delay</th>\n",
       "      <th>lockin1</th>\n",
       "      <th>lockin2</th>\n",
       "      <th>file_index</th>\n",
       "      <th>b_external</th>\n",
       "      <th>wavelength</th>\n",
       "    </tr>\n",
       "    <tr>\n",
       "      <th>run_id</th>\n",
       "      <th>index_2d</th>\n",
       "      <th>index_1d</th>\n",
       "      <th></th>\n",
       "      <th></th>\n",
       "      <th></th>\n",
       "      <th></th>\n",
       "      <th></th>\n",
       "      <th></th>\n",
       "    </tr>\n",
       "  </thead>\n",
       "  <tbody>\n",
       "    <tr>\n",
       "      <th rowspan=\"5\" valign=\"top\">0</th>\n",
       "      <th rowspan=\"5\" valign=\"top\">0.0</th>\n",
       "      <th>0</th>\n",
       "      <td>-500.2216</td>\n",
       "      <td>0.000130</td>\n",
       "      <td>-0.02200</td>\n",
       "      <td>0</td>\n",
       "      <td>200.0</td>\n",
       "      <td>836.0</td>\n",
       "    </tr>\n",
       "    <tr>\n",
       "      <th>1</th>\n",
       "      <td>-475.2909</td>\n",
       "      <td>0.000122</td>\n",
       "      <td>-0.02742</td>\n",
       "      <td>0</td>\n",
       "      <td>200.0</td>\n",
       "      <td>836.0</td>\n",
       "    </tr>\n",
       "    <tr>\n",
       "      <th>2</th>\n",
       "      <td>-450.3601</td>\n",
       "      <td>0.000088</td>\n",
       "      <td>-0.03182</td>\n",
       "      <td>0</td>\n",
       "      <td>200.0</td>\n",
       "      <td>836.0</td>\n",
       "    </tr>\n",
       "    <tr>\n",
       "      <th>3</th>\n",
       "      <td>-425.4294</td>\n",
       "      <td>0.000033</td>\n",
       "      <td>-0.03474</td>\n",
       "      <td>0</td>\n",
       "      <td>200.0</td>\n",
       "      <td>836.0</td>\n",
       "    </tr>\n",
       "    <tr>\n",
       "      <th>4</th>\n",
       "      <td>-400.2216</td>\n",
       "      <td>0.000050</td>\n",
       "      <td>-0.03608</td>\n",
       "      <td>0</td>\n",
       "      <td>200.0</td>\n",
       "      <td>836.0</td>\n",
       "    </tr>\n",
       "  </tbody>\n",
       "</table>\n",
       "</div>"
      ],
      "text/plain": [
       "                          probe_delay   lockin1  lockin2  file_index  \\\n",
       "run_id index_2d index_1d                                               \n",
       "0      0.0      0           -500.2216  0.000130 -0.02200           0   \n",
       "                1           -475.2909  0.000122 -0.02742           0   \n",
       "                2           -450.3601  0.000088 -0.03182           0   \n",
       "                3           -425.4294  0.000033 -0.03474           0   \n",
       "                4           -400.2216  0.000050 -0.03608           0   \n",
       "\n",
       "                          b_external  wavelength  \n",
       "run_id index_2d index_1d                          \n",
       "0      0.0      0              200.0       836.0  \n",
       "                1              200.0       836.0  \n",
       "                2              200.0       836.0  \n",
       "                3              200.0       836.0  \n",
       "                4              200.0       836.0  "
      ]
     },
     "execution_count": 4,
     "metadata": {},
     "output_type": "execute_result"
    }
   ],
   "source": [
    "import os\n",
    "\n",
    "# REQUIRED: directory containing 2D scans\n",
    "# parent_dir = ('C:\\\\Data\\\\feb2017_data_part2')\n",
    "parent_dir = ('C:\\\\Data\\\\FitTrialData2\\\\Delay_Scan')\n",
    "\n",
    "# REQUIRED: data storage format information\n",
    "delimiter = '\\t'\n",
    "trailing_delimiters = True  # rows end in delimiters\n",
    "num_headerlines = 0\n",
    "column_names_row = 1  # NOT counting skipped lines from num_headerlines\n",
    "overwriting_column_names = []\n",
    "\n",
    "if not overwriting_column_names:\n",
    "    overwriting_column_names = None\n",
    "pandas_read_csv_kwargs = {\n",
    "     'skiprows': num_headerlines,\n",
    "     'header': column_names_row,\n",
    "     'names': overwriting_column_names,\n",
    "     'delimiter': delimiter,\n",
    "}\n",
    "if trailing_delimiters:  # needed to avoid problems\n",
    "    pandas_read_csv_kwargs['index_col'] = False\n",
    "\n",
    "# REQUIRED: filename key for data files, will load only these\n",
    "filename_key = '.dat'\n",
    "\n",
    "# REQUIRED: criteria for grouping runs\n",
    "run_criteria = 'directory'\n",
    "\n",
    "# OPTIONAL: filepath parsing rules\n",
    "# DEFAULT SEARCH TERMS AND SEARCH RULES:\n",
    "# 1. If first string found, register second string as\n",
    "#    tag containing third string/value\n",
    "#        e.g. if keyword_list contains (\"warmup\", \"Warmup?\", \"Yes\"):\n",
    "#             \"...warmup...\" -> {\"Warmup?\": \"Yes\"}\n",
    "this_element_keyword_list = [\n",
    "    (       \"CISP\", \"Experiment Type\", \"CISP\"       ),\n",
    "    ( \"Delay_Scan\", \"Experiment Type\", \"Delay_Scan\" ),\n",
    "    ( \"Field_Scan\", \"Experiment Type\", \"Field_Scan\" ),\n",
    "    (\"Mirror_Scan\", \"Experiment Type\", \"Mirror_Scan\"),\n",
    "    ( \"RMBE1130-K\", \"Sample ID\", \"RMBE1130-K\"),\n",
    "    (\"[1-10]Horiz\", \"Sample Orientation\", \"[1-10]Horiz\"),\n",
    "]\n",
    "# 2. Grab next element(s) if this one CONTAINS first string,\n",
    "#    tag next element(s) as second string(s)\n",
    "#        e.g. \"..._Ind_3_...\" -> {\"FastScanIndex\": 3}\n",
    "#        e.g. \"..._2Dscan_MirrorY_MirrorZ_...\"\n",
    "#                 -> {\"SecondScanType\": \"MirrorY\",\n",
    "#                     \"FirstScanType\": \"MirrorZ\"}\n",
    "next_element_keyword_list = []\n",
    "# 3. Grab this element if it CONTAINS first string,\n",
    "#    tag remainder as second string\n",
    "#        e.g. \"..._30K_...\" -> {\"SetTemperature\": 30}\n",
    "in_this_element_keyword_list = [\n",
    "    (\"FIELD\", \"Date_and_Scan_2D_Index\"),\n",
    "    (\"DLAY\", \"Date_and_Scan_2D_Index\"),\n",
    "    (\"STPR\", \"Date_and_Scan_2D_Index\"),\n",
    "    (\"phi-\", \"Electric Field Angle\"),\n",
    "    (\"T\", \"Magnetic Field (T)\"),\n",
    "    (\"K\", \"Set Temperature (K)\"),\n",
    "    (\"nm\", \"Wavelength (nm)\"),\n",
    "    (\"ps\", \"Delay Time (ps)\"),\n",
    "    (\"mV\", \"Voltage (mV)\"),\n",
    "]\n",
    "parsing_keyword_lists = [this_element_keyword_list,\n",
    "                         next_element_keyword_list,\n",
    "                         in_this_element_keyword_list]\n",
    "\n",
    "# OPTIONAL: metadata processing functions,\n",
    "# must accept dict and modify in-place\n",
    "def derive_metadata_from_scan_type_tag(metadata_dict):\n",
    "    if 'Date_and_Scan_2D_Index' in metadata_dict.keys():\n",
    "        date_and_index = str(metadata_dict['Date_and_Scan_2D_Index'])\n",
    "        metadata_dict['Date'] = date_and_index[:6]\n",
    "        metadata_dict['Scan_2D_Index'] = float(date_and_index[6:]) - 1\n",
    "        del metadata_dict['Date_and_Scan_2D_Index']\n",
    "def consolidate_aliases_for_bfield(metadata_dict):\n",
    "    if 'Magnetic Field (T)' in metadata_dict.keys():\n",
    "        metadata_dict['Magnetic Field (mT)'] = \\\n",
    "            1000.0 * metadata_dict['Magnetic Field (T)']\n",
    "metadata_processing_fcns = [derive_metadata_from_scan_type_tag,\n",
    "                            consolidate_aliases_for_bfield]\n",
    "\n",
    "# OPTIONAL: metadata-based filtering fcns, type: dict() -> bool\n",
    "# fcns returning False if data should be ignored\n",
    "metadata_filter_fcns = [\n",
    "#     lambda metadata_dict: metadata_dict.get(\"# repeats\", 1) <= 2,\n",
    "    lambda metadata_dict: \"alignment\" not in metadata_dict.get(\"Filepath\"),\n",
    "    lambda metadata_dict: \"Scan_2D_Index\" in metadata_dict.keys(),\n",
    "]\n",
    "\n",
    "# OPTIONAL: metadata tags to be converted to dataframe columns.\n",
    "# Elements should be of form ('metadata tag', 'column name')\n",
    "metadata_tag_to_column_list = [\n",
    "    (             'Run ID', 'run_id'),\n",
    "    (      'Scan_2D_Index', 'index_2d'),\n",
    "    ('Magnetic Field (mT)', 'b_external'),\n",
    "    (    'Wavelength (nm)', 'wavelength'),\n",
    "]\n",
    "\n",
    "# OPTIONAL: dataframe processing functions,\n",
    "# must accept dataframe and modify in-place\n",
    "def set_dataframe_indices(df):\n",
    "    df['index_1d'] = df.index  # assumes index = 0,1,2,...  \n",
    "    df.set_index(['run_id', 'index_2d', 'index_1d'],\n",
    "                 drop=True, append=False, inplace=True)\n",
    "def edit_dataframe_colnames(df):\n",
    "    renaming_dict = {}\n",
    "    if 'Delay (ps)' in list(df):\n",
    "        renaming_dict['Delay (ps)'] = 'probe_delay'\n",
    "    if 'Lock-In 1 (V)' in list(df):\n",
    "        renaming_dict['Lock-In 1 (V)'] = 'lockin1'\n",
    "    if 'Lock-In 2 (V)' in list(df):\n",
    "        renaming_dict['Lock-In 2 (V)'] = 'lockin2'\n",
    "    df.rename(columns=renaming_dict, inplace=True)\n",
    "dataframe_processing_fcns = [\n",
    "    set_dataframe_indices,\n",
    "    edit_dataframe_colnames,\n",
    "]\n",
    "\n",
    "filepath_list, file_dataframes_list, file_metadata_list = \\\n",
    "    process_directory_csvs_to_dataframes(parent_dir,\n",
    "                                         filename_key, run_criteria,\n",
    "                                         pandas_read_csv_kwargs,\n",
    "                                         parsing_keyword_lists,\n",
    "                                         metadata_processing_fcns,\n",
    "                                         metadata_filter_fcns,\n",
    "                                         metadata_tag_to_column_list,\n",
    "                                         dataframe_processing_fcns)\n",
    "\n",
    "full_dataframe = pd.concat(file_dataframes_list)\n",
    "full_dataframe.sort_index(ascending=True, inplace=True)\n",
    "\n",
    "# plot newly created dataframe and show the first few rows\n",
    "figure_size = (12, 6)\n",
    "num_waterfall_plots = 4\n",
    "data_column = 'lockin2'\n",
    "x_values_column = 'probe_delay'\n",
    "y_values_column = None\n",
    "xlabel = 'Pump-Probe Delay (ps)'\n",
    "ylabel = None\n",
    "imshow_kwargs = {'aspect': 1.0,\n",
    "                 'origin': 'upper'}\n",
    "plt.figure(figsize=figure_size)\n",
    "ax1 = plt.subplot(1,2,1)\n",
    "ax2 = plt.subplot(1,2,2)\n",
    "dfplot.plot_dataframe_colorplot(full_dataframe, data_column,\n",
    "                                x_values_column, y_values_column,\n",
    "                                fill_value=full_dataframe['lockin2'].min(),\n",
    "                                xlabel=xlabel, ylabel=ylabel,\n",
    "                                ax=ax1, **imshow_kwargs)\n",
    "dfplot.plot_dataframe_waterfall(full_dataframe, data_column,\n",
    "                                num_waterfall_plots,\n",
    "                                x_values_column, y_values_column,\n",
    "                                xlabel=xlabel, ylabel=None, ax=ax2)\n",
    "ax2.yaxis.set_ticklabels([])\n",
    "plt.show()\n",
    "full_dataframe.head(5)"
   ]
  },
  {
   "cell_type": "code",
   "execution_count": null,
   "metadata": {
    "collapsed": true,
    "scrolled": true
   },
   "outputs": [],
   "source": [
    "# TAKE A LOOK AT ANY SUBFILE\n",
    "file_index = 0\n",
    "for key, val in file_metadata_list[file_index].items():\n",
    "    print(\"{}: {}\".format(key, val))\n",
    "file_dataframes_list[file_index].head()"
   ]
  },
  {
   "cell_type": "code",
   "execution_count": null,
   "metadata": {
    "collapsed": true
   },
   "outputs": [],
   "source": []
  },
  {
   "cell_type": "code",
   "execution_count": null,
   "metadata": {
    "collapsed": true
   },
   "outputs": [],
   "source": []
  },
  {
   "cell_type": "code",
   "execution_count": null,
   "metadata": {
    "collapsed": true
   },
   "outputs": [],
   "source": []
  },
  {
   "cell_type": "code",
   "execution_count": null,
   "metadata": {
    "collapsed": true
   },
   "outputs": [],
   "source": []
  },
  {
   "cell_type": "code",
   "execution_count": null,
   "metadata": {
    "collapsed": true
   },
   "outputs": [],
   "source": []
  },
  {
   "cell_type": "code",
   "execution_count": null,
   "metadata": {
    "collapsed": true
   },
   "outputs": [],
   "source": []
  },
  {
   "cell_type": "code",
   "execution_count": null,
   "metadata": {
    "collapsed": true
   },
   "outputs": [],
   "source": []
  },
  {
   "cell_type": "code",
   "execution_count": null,
   "metadata": {
    "collapsed": true
   },
   "outputs": [],
   "source": []
  },
  {
   "cell_type": "code",
   "execution_count": null,
   "metadata": {
    "collapsed": true
   },
   "outputs": [],
   "source": []
  },
  {
   "cell_type": "code",
   "execution_count": null,
   "metadata": {
    "collapsed": true
   },
   "outputs": [],
   "source": []
  },
  {
   "cell_type": "code",
   "execution_count": null,
   "metadata": {
    "collapsed": true
   },
   "outputs": [],
   "source": []
  },
  {
   "cell_type": "code",
   "execution_count": null,
   "metadata": {
    "collapsed": true
   },
   "outputs": [],
   "source": []
  },
  {
   "cell_type": "code",
   "execution_count": null,
   "metadata": {
    "collapsed": true
   },
   "outputs": [],
   "source": []
  },
  {
   "cell_type": "code",
   "execution_count": null,
   "metadata": {
    "collapsed": true
   },
   "outputs": [],
   "source": []
  },
  {
   "cell_type": "code",
   "execution_count": null,
   "metadata": {
    "collapsed": true
   },
   "outputs": [],
   "source": []
  },
  {
   "cell_type": "code",
   "execution_count": null,
   "metadata": {
    "collapsed": true
   },
   "outputs": [],
   "source": []
  },
  {
   "cell_type": "code",
   "execution_count": null,
   "metadata": {
    "collapsed": true
   },
   "outputs": [],
   "source": []
  },
  {
   "cell_type": "code",
   "execution_count": null,
   "metadata": {
    "collapsed": true
   },
   "outputs": [],
   "source": []
  },
  {
   "cell_type": "code",
   "execution_count": null,
   "metadata": {
    "collapsed": true
   },
   "outputs": [],
   "source": []
  },
  {
   "cell_type": "code",
   "execution_count": null,
   "metadata": {
    "collapsed": true
   },
   "outputs": [],
   "source": []
  },
  {
   "cell_type": "code",
   "execution_count": null,
   "metadata": {
    "collapsed": true
   },
   "outputs": [],
   "source": []
  },
  {
   "cell_type": "code",
   "execution_count": null,
   "metadata": {
    "collapsed": true
   },
   "outputs": [],
   "source": []
  },
  {
   "cell_type": "code",
   "execution_count": null,
   "metadata": {
    "collapsed": true
   },
   "outputs": [],
   "source": []
  }
 ],
 "metadata": {
  "kernelspec": {
   "display_name": "Python 3",
   "language": "python",
   "name": "python3"
  },
  "language_info": {
   "codemirror_mode": {
    "name": "ipython",
    "version": 3
   },
   "file_extension": ".py",
   "mimetype": "text/x-python",
   "name": "python",
   "nbconvert_exporter": "python",
   "pygments_lexer": "ipython3",
   "version": "3.6.0"
  },
  "toc": {
   "colors": {
    "hover_highlight": "#DAA520",
    "running_highlight": "#FF0000",
    "selected_highlight": "#FFD700"
   },
   "moveMenuLeft": true,
   "nav_menu": {
    "height": "4px",
    "width": "254px"
   },
   "navigate_menu": true,
   "number_sections": true,
   "sideBar": true,
   "threshold": 4,
   "toc_cell": false,
   "toc_section_display": "block",
   "toc_window_display": false,
   "widenNotebook": false
  }
 },
 "nbformat": 4,
 "nbformat_minor": 2
}
