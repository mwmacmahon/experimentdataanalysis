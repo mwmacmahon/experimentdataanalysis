{
 "cells": [
  {
   "cell_type": "markdown",
   "metadata": {
    "collapsed": true
   },
   "source": [
    "\n",
    "# Data Processing Example - Fake TRKR"
   ]
  },
  {
   "cell_type": "code",
   "execution_count": 9,
   "metadata": {
    "collapsed": true
   },
   "outputs": [],
   "source": [
    "# General imports\n",
    "%matplotlib inline\n",
    "import matplotlib.pyplot as plt\n",
    "import numpy as np\n",
    "import pandas as pd\n",
    "\n",
    "import experimentdataanalysis.analysis.dataframe_plotting as dfplot"
   ]
  },
  {
   "cell_type": "code",
   "execution_count": 2,
   "metadata": {
    "collapsed": true
   },
   "outputs": [],
   "source": [
    "# import jtplot submodule from jupyterthemes IF installed\n",
    "import importlib\n",
    "jtplot_found = importlib.util.find_spec(\"jupyterthemes.jtplot\") is not None\n",
    "if jtplot_found:\n",
    "    from jupyterthemes import jtplot\n",
    "    # - currently installed theme will be used to\n",
    "    jtplot.style(ticks=False, grid=False, fscale=1.6)\n",
    "    # set the default figure size\n",
    "    jtplot.figsize(x=6., y=6.)\n",
    "    # needed to avoid spurious error messages with imshow...\n",
    "    import warnings\n",
    "    warnings.filterwarnings(\"ignore\", category=UserWarning, module=\"matplotlib\")\n"
   ]
  },
  {
   "cell_type": "markdown",
   "metadata": {
    "collapsed": true
   },
   "source": [
    "## Simulation for creating fake data"
   ]
  },
  {
   "cell_type": "code",
   "execution_count": 3,
   "metadata": {},
   "outputs": [
    {
     "data": {
      "image/png": "[encoded data removed]",
      "text/plain": [
       "<matplotlib.figure.Figure at 0x1c6ef19f860>"
      ]
     },
     "metadata": {},
     "output_type": "display_data"
    },
    {
     "data": {
      "text/html": [
       "<div>\n",
       "<style>\n",
       "    .dataframe thead tr:only-child th {\n",
       "        text-align: right;\n",
       "    }\n",
       "\n",
       "    .dataframe thead th {\n",
       "        text-align: left;\n",
       "    }\n",
       "\n",
       "    .dataframe tbody tr th {\n",
       "        vertical-align: top;\n",
       "    }\n",
       "</style>\n",
       "<table border=\"1\" class=\"dataframe\">\n",
       "  <thead>\n",
       "    <tr style=\"text-align: right;\">\n",
       "      <th></th>\n",
       "      <th></th>\n",
       "      <th></th>\n",
       "      <th>b_external</th>\n",
       "      <th>kerr_rotation</th>\n",
       "      <th>probe_delay</th>\n",
       "    </tr>\n",
       "    <tr>\n",
       "      <th>run_id</th>\n",
       "      <th>index_2d</th>\n",
       "      <th>index_1d</th>\n",
       "      <th></th>\n",
       "      <th></th>\n",
       "      <th></th>\n",
       "    </tr>\n",
       "  </thead>\n",
       "  <tbody>\n",
       "    <tr>\n",
       "      <th rowspan=\"5\" valign=\"top\">0</th>\n",
       "      <th rowspan=\"5\" valign=\"top\">0</th>\n",
       "      <th>0</th>\n",
       "      <td>200.0</td>\n",
       "      <td>-0.000166</td>\n",
       "      <td>-480.0</td>\n",
       "    </tr>\n",
       "    <tr>\n",
       "      <th>1</th>\n",
       "      <td>200.0</td>\n",
       "      <td>-0.000120</td>\n",
       "      <td>-452.0</td>\n",
       "    </tr>\n",
       "    <tr>\n",
       "      <th>2</th>\n",
       "      <td>200.0</td>\n",
       "      <td>-0.000060</td>\n",
       "      <td>-424.0</td>\n",
       "    </tr>\n",
       "    <tr>\n",
       "      <th>3</th>\n",
       "      <td>200.0</td>\n",
       "      <td>-0.000062</td>\n",
       "      <td>-396.0</td>\n",
       "    </tr>\n",
       "    <tr>\n",
       "      <th>4</th>\n",
       "      <td>200.0</td>\n",
       "      <td>0.000057</td>\n",
       "      <td>-368.0</td>\n",
       "    </tr>\n",
       "  </tbody>\n",
       "</table>\n",
       "</div>"
      ],
      "text/plain": [
       "                          b_external  kerr_rotation  probe_delay\n",
       "run_id index_2d index_1d                                        \n",
       "0      0        0              200.0      -0.000166       -480.0\n",
       "                1              200.0      -0.000120       -452.0\n",
       "                2              200.0      -0.000060       -424.0\n",
       "                3              200.0      -0.000062       -396.0\n",
       "                4              200.0       0.000057       -368.0"
      ]
     },
     "execution_count": 3,
     "metadata": {},
     "output_type": "execute_result"
    }
   ],
   "source": [
    "# import experimentdataanalysis.data_io.metadataparsing as metadataparsing  # for actual data importation\n",
    "import experimentdataanalysis.simulations.simple_trkr_rsa_simulation as simple_trkr_rsa_simulation\n",
    "\n",
    "# independent params\n",
    "seed = 10\n",
    "\n",
    "ndatasets = 61\n",
    "nx = 16\n",
    "dataset_bvals = np.linspace(200, 230, ndatasets)\n",
    "tvals = np.linspace(-480, -60, nx)\n",
    "\n",
    "# TEMP - full TRKR scans over huge B-range\n",
    "# ndatasets = 51\n",
    "# nx = 251\n",
    "# dataset_bvals = np.linspace(0, 200, ndatasets)\n",
    "# tvals = np.linspace(-500, 7000, nx)\n",
    "\n",
    "# simulation constants & randomly generated params\n",
    "simulation_constants = {\n",
    "    'pulse_amplitude_mean': 1e-3,\n",
    "    'pulse_amplitude_std_err': 2e-5,\n",
    "    'gfactor': 0.439,\n",
    "    'spin_lifetime_mean': 10000,\n",
    "    'spin_lifetime_std_err': 2000,\n",
    "    'initial_phase': 0.0 * np.pi,\n",
    "    'extra_phase_offset_baseline': 0.0 * np.pi,\n",
    "    'extra_phase_offset_cos_amp': 0.1 * np.pi,\n",
    "    'extra_phase_offset_cos_nperiods': 3.0,\n",
    "    'slopes_scale': 0.0,\n",
    "    'offsets_scale': 1e-4,\n",
    "    'noise_scale': 2e-5,\n",
    "}\n",
    "\n",
    "simulation_params = \\\n",
    "    simple_trkr_rsa_simulation.generate_TRKR_simulation_params(nx, ndatasets,\n",
    "                                                               simulation_constants, seed)\n",
    "dataframe = \\\n",
    "    simple_trkr_rsa_simulation.generate_TRKR_simulation_dataframe(tvals, dataset_bvals,\n",
    "                                                                  simulation_params,\n",
    "                                                                  suppress_plot=True)\n",
    "\n",
    "# plot newly created dataframe and show the first few rows\n",
    "plt.figure(figsize=(4,4))\n",
    "ax = plt.subplot(111)\n",
    "dfplot.plot_dataframe_2d(dataframe, 'kerr_rotation',\n",
    "                         x_values_column='probe_delay',\n",
    "                         y_values_column='b_external',\n",
    "                         ax=ax, aspect=1.0)\n",
    "dataframe.head(5)"
   ]
  },
  {
   "cell_type": "markdown",
   "metadata": {},
   "source": [
    "## Pandas-lmfit helper functions"
   ]
  },
  {
   "cell_type": "code",
   "execution_count": 4,
   "metadata": {
    "collapsed": true
   },
   "outputs": [],
   "source": [
    "from experimentdataanalysis.analysis.dataframe_processing \\\n",
    "    import df_extract_dataset_indexed_matrices, \\\n",
    "           df_extract_vector_lists_by_dataset, \\\n",
    "           df_transform_dataset_df_to_fit_row, \\\n",
    "           df_minimize_fcn_on_datasets, \\\n",
    "           df_minimize_fcn_across_linked_datasets\n",
    "\n",
    "# df_extract_dataset_indexed_matrices(df, column_names)\n",
    "# df_extract_vector_lists_by_dataset(df, column_names)\n",
    "# df_transform_dataset_df_to_fit_row(df, group_fit_params_dict,\n",
    "#                                    fit_params_to_add,\n",
    "#                                    column_aggregation_dict={},\n",
    "#                                    keep_const_columns=True)\n",
    "# df_minimize_fcn_on_datasets(df, residuals_fcn, fit_params,\n",
    "#                             independent_vars_columns,\n",
    "#                             measured_data_column,\n",
    "#                             *res_args,\n",
    "#                             column_aggregation_dict={},  # KEYWORDS ONLY!\n",
    "#                             keep_const_columns=True,\n",
    "#                             **res_kwargs)\n",
    "\n",
    "# WORK IN PROGRESS:\n",
    "# df_minimize_fcn_across_linked_datasets(df, residuals_fcn, fit_params,\n",
    "#                                        dataset_params_unpacking_fcn,\n",
    "#                                        independent_vars_columns,\n",
    "#                                        measured_data_column,\n",
    "#                                        *res_args,\n",
    "#                                        column_aggregation_dict={},  # KEYWORDS ONLY!\n",
    "#                                        keep_const_columns=True,\n",
    "#                                        **res_kwargs)"
   ]
  },
  {
   "cell_type": "markdown",
   "metadata": {},
   "source": [
    "## Dataset fit model and residuals"
   ]
  },
  {
   "cell_type": "code",
   "execution_count": 5,
   "metadata": {
    "collapsed": true
   },
   "outputs": [],
   "source": [
    "# GLOBAL CONSTANTS\n",
    "GFACTORCONSTANT = 1.3996e-5  # 1/(ps*mTesla), = bohr magneton/2*pi*hbar\n",
    "LASER_REPRATE = 13158  # ps period\n",
    "\n",
    "def fitfcn_cosine(delay_time, b_external,  # <- independent vars,\n",
    "                  gfactor,  # <- potentially linked parameters across datasets in run,\n",
    "                  amplitude, phase_offset,  # <- rest are unlinked parameters unique to current dataset\n",
    "                  y_offset):\n",
    "    \"\"\"\n",
    "    Oversimplified cosine fit that assumes phase @t=0 is always 0.\n",
    "    Expected to act on very few data points, so brings in expected ang. freq using b_external.\n",
    "\n",
    "    Independent variables: delay_time (can vary), b_external (must be const.)\n",
    "    Parameters: gfactor, amplitude, phase_offset, y_offset\n",
    "\n",
    "    IMPORTANT NOTE: Despite this function taking more than one independent variable,\n",
    "    this model is ONLY 1D. Only the first should be allowed to vary during a run,\n",
    "    the other independent variables are there for convenience when fitting to pandas\n",
    "    dataframes and should really be thought of more as constant parameters (scalar\n",
    "    values are not only acceptable, they are preferred for speed reasons to the\n",
    "    alternative - arrays of same shape as first independent variable)\n",
    "    \"\"\"\n",
    "    osc_ang_freq = 2 * np.pi * GFACTORCONSTANT * gfactor * b_external\n",
    "    pos_def_delay = delay_time % LASER_REPRATE\n",
    "    signal = amplitude * np.cos(osc_ang_freq * pos_def_delay + phase_offset)\n",
    "    return signal + y_offset\n",
    "\n",
    "\n",
    "def residuals_fitfcn_cosine(params, delay_time, b_external, measured_data=None):\n",
    "    \"\"\"\n",
    "    Residual wrapper for lmfit minimize() for function fitfcn_cosine.\n",
    "    Uses given parameters and independent variables to evaluate function.\n",
    "    If data is given, returns (data - function_output) for use in least\n",
    "    squares optimization. If data is not given or None, just returns\n",
    "    the function output.\n",
    "\n",
    "    Follows the style used in the lmfit documentation on minimize().\n",
    "    \"\"\"\n",
    "    # unpack parameters:\n",
    "    #  extract .value attribute for each parameter\n",
    "    param_values = params.valuesdict()\n",
    "    gfactor      = param_values['gfactor']\n",
    "    amplitude    = param_values['amplitude']\n",
    "    phase_offset = param_values['phase_offset']\n",
    "    y_offset     = param_values['y_offset']\n",
    "    fitfcn_results = fitfcn_cosine(delay_time, b_external,\n",
    "                                   gfactor, amplitude, phase_offset, y_offset)\n",
    "    if measured_data is None:\n",
    "        return fitfcn_results\n",
    "    return fitfcn_results - measured_data"
   ]
  },
  {
   "cell_type": "markdown",
   "metadata": {},
   "source": [
    "## Dataset fit parameter setup and constraints"
   ]
  },
  {
   "cell_type": "code",
   "execution_count": 6,
   "metadata": {
    "collapsed": true
   },
   "outputs": [],
   "source": [
    "from lmfit import Parameters\n",
    "\n",
    "params_guesses = [('gfactor',        {'value' : 0.439,\n",
    "                                      'vary'  : False}),\n",
    "                  ('amplitude',      {'value' : 1e-3,\n",
    "                                      'min'   : 0.0,\n",
    "                                      'max'   : 1.0}),\n",
    "                  ('phase_offset',   {'value' : 0.0,\n",
    "                                      'min'   : -np.pi,\n",
    "                                      'max'   : +np.pi}),\n",
    "                  ('y_offset',       {'value' : 0.0,\n",
    "                                      'min'   : -1e-3,\n",
    "                                      'max'   : +1e-3}),\n",
    "                 ]\n",
    "fit_params = Parameters()\n",
    "for param_name, param_guess_dict in params_guesses:\n",
    "    fit_params.add(param_name, **param_guess_dict)"
   ]
  },
  {
   "cell_type": "markdown",
   "metadata": {},
   "source": [
    "## 1D Fit to fake data"
   ]
  },
  {
   "cell_type": "code",
   "execution_count": 10,
   "metadata": {},
   "outputs": [
    {
     "ename": "AttributeError",
     "evalue": "'MinimizerResult' object has no attribute 'plot'",
     "output_type": "error",
     "traceback": [
      "\u001b[1;31m---------------------------------------------------------------------------\u001b[0m",
      "\u001b[1;31mAttributeError\u001b[0m                            Traceback (most recent call last)",
      "\u001b[1;32m<ipython-input-10-872376ca8445>\u001b[0m in \u001b[0;36m<module>\u001b[1;34m()\u001b[0m\n\u001b[0;32m     52\u001b[0m     \u001b[1;32melse\u001b[0m\u001b[1;33m:\u001b[0m\u001b[1;33m\u001b[0m\u001b[0m\n\u001b[0;32m     53\u001b[0m         \u001b[0mfit_result\u001b[0m \u001b[1;33m=\u001b[0m \u001b[0mdataset_results\u001b[0m\u001b[1;33m[\u001b[0m\u001b[0mdataset_index\u001b[0m\u001b[1;33m]\u001b[0m\u001b[1;33m\u001b[0m\u001b[0m\n\u001b[1;32m---> 54\u001b[1;33m         \u001b[0mfit_result\u001b[0m\u001b[1;33m.\u001b[0m\u001b[0mplot\u001b[0m\u001b[1;33m(\u001b[0m\u001b[1;33m)\u001b[0m\u001b[1;33m\u001b[0m\u001b[0m\n\u001b[0m",
      "\u001b[1;31mAttributeError\u001b[0m: 'MinimizerResult' object has no attribute 'plot'"
     ]
    },
    {
     "data": {
      "image/png": "[encoded data removed]",
      "text/plain": [
       "<matplotlib.figure.Figure at 0x1c6f3be10b8>"
      ]
     },
     "metadata": {},
     "output_type": "display_data"
    }
   ],
   "source": [
    "df = dataframe.xs(0, level='run_id')\n",
    "residuals_fcn = residuals_fitfcn_cosine\n",
    "fit_params = fit_params\n",
    "independent_vars_columns = [\"probe_delay\", \"b_external\"]\n",
    "measured_data_column = \"kerr_rotation\"\n",
    "fit_params_to_add = ['amplitude', 'phase_offset']\n",
    "column_aggregation_dict = {'time_elapsed': lambda x: x.head(1).values}  # keep first time\n",
    "keep_const_columns = True\n",
    "\n",
    "dataset_results, new_df = \\\n",
    "    df_minimize_fcn_on_datasets(df, residuals_fcn, fit_params,\n",
    "                                independent_vars_columns,\n",
    "                                measured_data_column,\n",
    "                                column_aggregation_dict=column_aggregation_dict,  # keywords only!\n",
    "                                keep_const_columns=keep_const_columns)\n",
    "\n",
    "# FILTER OUT BAD FITS\n",
    "good_result_indices = []\n",
    "for dataset_index, result in enumerate(dataset_results):\n",
    "    red_flag = False\n",
    "    if result.params['phase_offset'].stderr > np.pi / 2:\n",
    "        print(\"dataset {}: \".format(dataset_index) +\n",
    "              \"phase offset error too large, ignoring dataset...\")\n",
    "        red_flag = True\n",
    "    if not red_flag:\n",
    "        good_result_indices.append(dataset_index)\n",
    "trimmed_df = new_df.iloc[good_result_indices]\n",
    "\n",
    "# GET ACTUAL RESULTS FROM SIMULATION TO COMPARE\n",
    "true_spin_lifetimes = simulation_params['spin_lifetimes'][good_result_indices]\n",
    "n500ps_decay_factors = np.exp(-(LASER_REPRATE - 500.0) / true_spin_lifetimes)\n",
    "true_amplitudes = n500ps_decay_factors * simulation_params['pulse_amplitudes'][good_result_indices]\n",
    "true_phase_offsets = simulation_params['extra_phase_offsets'][good_result_indices]\n",
    "\n",
    "plt.figure(figsize=(8,4))\n",
    "ax1 = plt.subplot(1,2,1)\n",
    "plt.plot(true_amplitudes, 'r')\n",
    "plt.errorbar(x=trimmed_df.b_external, y=trimmed_df.amplitude, yerr=trimmed_df.amplitude_error)\n",
    "# new_df['amplitude'].plot.line(ax=ax1)\n",
    "plt.title('amplitude')\n",
    "ax2 = plt.subplot(1,2,2)\n",
    "plt.plot(true_phase_offsets, 'r')\n",
    "plt.errorbar(x=trimmed_df.b_external, y=trimmed_df.phase_offset, yerr=trimmed_df.phase_offset_error)\n",
    "# new_df['phase_offset'].plot.line(ax=ax2)\n",
    "plt.title('phase_offset')\n",
    "new_df.head()\n",
    "\n",
    "indices_to_show = [0, 1]\n",
    "for dataset_index in indices_to_show:\n",
    "    if dataset_index not in good_result_indices:\n",
    "        print(\"Error: index {} does not exist \".format(dataset_index) +\n",
    "              \"or fit was unsuccessful\")\n",
    "    else:\n",
    "        dataset_df = df.loc[]\n",
    "        fit_result = dataset_results[dataset_index]\n",
    "        try:\n",
    "            fit_result.plot()  # REQUIRES A MODEL FIT, NOT MINIMIZER FIT!\n",
    "        except AttributeError:  # note: assumes standard lmfit fitfcn form\n",
    "            raise NotImplementedError()\n",
    "#             x_vectors = [df.\n",
    "#                          for colname in independent_vars_columns]\n",
    "#             fit_yvals = residuals_fcn(fit_result.params,\n",
    "                                      "
   ]
  },
  {
   "cell_type": "code",
   "execution_count": 8,
   "metadata": {},
   "outputs": [
    {
     "data": {
      "text/plain": [
       "4.9250930534441784e-09"
      ]
     },
     "execution_count": 8,
     "metadata": {},
     "output_type": "execute_result"
    }
   ],
   "source": [
    "result = dataset_results[0]\n",
    "result.chisqr"
   ]
  },
  {
   "cell_type": "code",
   "execution_count": null,
   "metadata": {
    "collapsed": true
   },
   "outputs": [],
   "source": []
  },
  {
   "cell_type": "code",
   "execution_count": null,
   "metadata": {
    "collapsed": true
   },
   "outputs": [],
   "source": []
  },
  {
   "cell_type": "code",
   "execution_count": null,
   "metadata": {
    "collapsed": true
   },
   "outputs": [],
   "source": []
  }
 ],
 "metadata": {
  "kernelspec": {
   "display_name": "Python 3",
   "language": "python",
   "name": "python3"
  },
  "language_info": {
   "codemirror_mode": {
    "name": "ipython",
    "version": 3
   },
   "file_extension": ".py",
   "mimetype": "text/x-python",
   "name": "python",
   "nbconvert_exporter": "python",
   "pygments_lexer": "ipython3",
   "version": "3.5.3"
  },
  "toc": {
   "colors": {
    "hover_highlight": "#DAA520",
    "running_highlight": "#FF0000",
    "selected_highlight": "#FFD700"
   },
   "moveMenuLeft": true,
   "nav_menu": {
    "height": "283px",
    "width": "252px"
   },
   "navigate_menu": true,
   "number_sections": true,
   "sideBar": true,
   "threshold": 4,
   "toc_cell": false,
   "toc_section_display": "block",
   "toc_window_display": false,
   "widenNotebook": false
  }
 },
 "nbformat": 4,
 "nbformat_minor": 2
}
