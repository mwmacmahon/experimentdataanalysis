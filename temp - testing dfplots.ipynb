{
 "cells": [
  {
   "cell_type": "code",
   "execution_count": 1,
   "metadata": {
    "collapsed": true
   },
   "outputs": [],
   "source": [
    "%matplotlib inline"
   ]
  },
  {
   "cell_type": "code",
   "execution_count": 261,
   "metadata": {
    "collapsed": true
   },
   "outputs": [],
   "source": [
    "# General imports\n",
    "import matplotlib.pyplot as plt\n",
    "import numpy as np\n",
    "import pandas as pd\n",
    "\n",
    "# helper fcn for labelling axes with nonconsecutive values:\n",
    "def get_inflection_points(series):\n",
    "    trend_sign = np.sign(series.iloc[1] - series.iloc[0])\n",
    "    yvals_iterator = series.items()\n",
    "    last_yind, last_yval = next(yvals_iterator)  # pop off and add first (ind, val) pair\n",
    "    inflection_point_indices = [last_yind]\n",
    "    inflection_point_values = [last_yval]\n",
    "    for y_ind, y_val in yvals_iterator:\n",
    "        if np.sign(y_val - last_yval) == -1 * trend_sign:\n",
    "            trend_sign = -1 * trend_sign\n",
    "            inflection_point_indices.append(last_yind)\n",
    "            inflection_point_values.append(last_yval)\n",
    "        last_yind, last_yval = y_ind, y_val\n",
    "    inflection_point_indices.append(y_ind)  # add last (ind, val) pair, too\n",
    "    inflection_point_values.append(y_val)\n",
    "    return inflection_point_indices, inflection_point_values\n",
    "\n",
    "# plot TRKR vs B-field in 2D\n",
    "def get_dataframe_XYZ_matrices(df, data_column,\n",
    "                               x_values_column=None,\n",
    "                               y_values_column=None):\n",
    "    \"\"\"\n",
    "    Returns plot-ready X, Y, Z matrices from pivoting a dataframe\n",
    "    along columns \"X\" and \"Y\". Expects a 2+ level multi-index and/or\n",
    "    for x_values_column and y_values_column parameters to be given.\n",
    "    If dataframe is 2+ level indexed _and_ one or both columns given,\n",
    "    the indices will be used to determine row/col of data in table,\n",
    "    but the values in X/Y matrix will utilize the [x/y]_values_column.\n",
    "    Otherwise, X/Y values will be sorted numerically, although extra\n",
    "    indices above two will be stacked along y-axis.\n",
    "    \"\"\"\n",
    "    # flatten as pivot_table() handles errors much better than unstack()\n",
    "    if df.index.nlevels == 1:\n",
    "        if (x_values_column is None) or (y_values_column is None):\n",
    "            raise ValueError(\"plot_dataframe_2d requires either a 2+ level \" +\n",
    "                             \"multi-indexed dataframe or both x_- and y_- \" +\n",
    "                             \"values_column parameters to be given.\")\n",
    "        excess_index_columns = []\n",
    "        x_index_column = x_values_column + '_copy'\n",
    "        y_index_column = y_values_column + '_copy'\n",
    "        flatdf = df.reset_index()  # just in case index important\n",
    "        flatdf[x_index_column] = flatdf[x_values_column]\n",
    "        flatdf[y_index_column] = flatdf[y_values_column]\n",
    "    else:\n",
    "        excess_index_columns = list(df.index.names[:-2])\n",
    "        y_index_column = df.index.names[-2]\n",
    "        x_index_column = df.index.names[-1]\n",
    "        flatdf = df.reset_index()\n",
    "        if x_values_column is None:\n",
    "            x_values_column = x_index_column + '_copy'\n",
    "            flatdf[x_values_column] = flatdf[x_index_column]\n",
    "        if y_values_column is None:\n",
    "            y_values_column = y_index_column + '_copy'\n",
    "            flatdf[y_values_column] = flatdf[y_index_column]\n",
    "    # add back any extra columns above 2d to keep y-axis ordering.\n",
    "    pivot_index_columns = excess_index_columns + [y_index_column]\n",
    "    # just quick-check to make sure these calls don't fail:\n",
    "    flatdf[data_column]\n",
    "    flatdf[x_values_column]\n",
    "    flatdf[y_values_column]\n",
    "    flatdf[pivot_index_columns]\n",
    "    flatdf[x_index_column]\n",
    "    pivot_df = flatdf.pivot_table(values=[data_column, x_values_column, y_values_column],\n",
    "                                  index=pivot_index_columns,\n",
    "                                  columns=[x_index_column],\n",
    "                                  aggfunc=lambda x: x.head(1),\n",
    "                                  fill_value=0)\n",
    "    xvals_df = pivot_df[x_values_column]  # pd.DataFrames in meshgrid()-style \n",
    "    yvals_df = pivot_df[y_values_column]\n",
    "    zvals_df = pivot_df[data_column]\n",
    "#     xvals_s = xvals_df.iloc[0]  # pd.Series w/matching x-dimensional indexing\n",
    "#     yvals_s = yvals_df.T.iloc[0]\n",
    "    X = xvals_df.values\n",
    "    Y = yvals_df.values\n",
    "    Z = zvals_df.values\n",
    "    return X, Y, Z\n",
    "\n",
    "def plot_dataframe_2d(df, data_column,\n",
    "                      x_values_column=None, y_values_column=None,\n",
    "                      ax=None):\n",
    "    X, Y, Z = get_dataframe_XYZ_matrices(df, data_column,\n",
    "                                         x_values_column, y_values_column)\n",
    "    xvals = X[0, :]\n",
    "    yvals = Y[:, 0]\n",
    "    if ax is None:\n",
    "        plt.figure(figsize=(6,6))\n",
    "        ax = plt.subplot(111)\n",
    "    ax.imshow(zvals_df, cmap='jet', interpolation='nearest', aspect=0.8 * len(xvals) / len(yvals))\n",
    "\n",
    "#     plot_label_column_names = ['wavelength', 'pump_power']\n",
    "#     plotlabel = \"\\n\".join(['{}: {}'.format(colname, dataframe.loc[run_id][colname].iloc[0])\n",
    "#                            for colname in plot_label_column_names])\n",
    "#     ax.text(1.1, 0.9, plotlabel, verticalalignment='top', horizontalalignment='left',\n",
    "#             transform=ax.transAxes, color='black', fontsize=16)\n",
    "\n",
    "    def get_axis_ticks(axis_data_series, use_inflection_points=False):\n",
    "        if use_inflection_points:\n",
    "            return get_inflection_points(axis_data_series)\n",
    "        else:\n",
    "            if len(axis_data_series) < 6:\n",
    "                return xvals_s.index, xvals_s.values\n",
    "            else:\n",
    "                 return None, []\n",
    "    x_tick_label_indices, x_tick_label_values = get_axis_ticks(xvals_s,\n",
    "                                                               use_inflection_points=False)\n",
    "    x_tick_labels = [\"{:.1f} ns\".format(val / 1000)\n",
    "                     for val in x_tick_label_values]\n",
    "    y_tick_label_indices, y_tick_label_values = get_axis_ticks(yvals_s,\n",
    "                                                               use_inflection_points=True)\n",
    "    y_tick_labels = [\"{:d} mT\".format(int(val * 1000))\n",
    "                     for val in y_tick_label_values]\n",
    "    if x_tick_label_indices is not None:\n",
    "        plt.xticks(x_tick_label_indices, x_tick_labels)\n",
    "    if x_tick_label_indices is not None:\n",
    "        plt.yticks(y_tick_label_indices, y_tick_labels)\n",
    "\n",
    "    plt.show()\n",
    "        \n",
    "def plot_2d_with_run_id_slider(dataframe, data_column,\n",
    "                               x_values_column=None, y_values_column=None):\n",
    "    \"\"\"\n",
    "    Expects a 3-level-multi-indexed dataframe and a column name corresponding\n",
    "    to the value to be plotted. Optionally, columns containing values corresponding\n",
    "    to each axis can be provided, otherwise the labels in the dataframe's index\n",
    "    will be used.\n",
    "    \"\"\"\n",
    "    def plot_2d_by_3rd_index(dataframe, third_index):\n",
    "        plot_dataframe_2d(dataframe.xs(third_index, level=-3), \n",
    "                          data_column, x_values_column, y_values_column)\n",
    "\n",
    "    run_id_slider = widgets.IntSlider(min=0, max=dataframe.index.get_level_values('run_id').max(),\n",
    "                                      value=0, description='Run ID:')\n",
    "    widgets.interact(plot_2d_by_3rd_index, dataframe=widgets.fixed(dataframe), run_id=run_id_slider);\n"
   ]
  },
  {
   "cell_type": "markdown",
   "metadata": {},
   "source": [
    "# Simulation Data"
   ]
  },
  {
   "cell_type": "code",
   "execution_count": 262,
   "metadata": {
    "collapsed": true
   },
   "outputs": [],
   "source": [
    "# import jtplot submodule from jupyterthemes IF installed\n",
    "import importlib\n",
    "jtplot_found = importlib.util.find_spec(\"jupyterthemes.jtplot\") is not None\n",
    "if jtplot_found:\n",
    "    from jupyterthemes import jtplot\n",
    "    # - currently installed theme will be used to\n",
    "    jtplot.style(ticks=False, grid=False, fscale=1.6)\n",
    "    # set the default figure size\n",
    "    jtplot.figsize(x=4., y=4.)\n",
    "    # needed to avoid spurious error messages with imshow...\n",
    "    import warnings\n",
    "    warnings.filterwarnings(\"ignore\", category=UserWarning, module=\"matplotlib\")\n"
   ]
  },
  {
   "cell_type": "code",
   "execution_count": 265,
   "metadata": {},
   "outputs": [
    {
     "data": {
      "text/html": [
       "<div>\n",
       "<style>\n",
       "    .dataframe thead tr:only-child th {\n",
       "        text-align: right;\n",
       "    }\n",
       "\n",
       "    .dataframe thead th {\n",
       "        text-align: left;\n",
       "    }\n",
       "\n",
       "    .dataframe tbody tr th {\n",
       "        vertical-align: top;\n",
       "    }\n",
       "</style>\n",
       "<table border=\"1\" class=\"dataframe\">\n",
       "  <thead>\n",
       "    <tr style=\"text-align: right;\">\n",
       "      <th></th>\n",
       "      <th></th>\n",
       "      <th></th>\n",
       "      <th>b_external</th>\n",
       "      <th>kerr_rotation</th>\n",
       "      <th>probe_delay</th>\n",
       "    </tr>\n",
       "    <tr>\n",
       "      <th>run_id</th>\n",
       "      <th>index_2d</th>\n",
       "      <th>index_1d</th>\n",
       "      <th></th>\n",
       "      <th></th>\n",
       "      <th></th>\n",
       "    </tr>\n",
       "  </thead>\n",
       "  <tbody>\n",
       "    <tr>\n",
       "      <th rowspan=\"5\" valign=\"top\">1</th>\n",
       "      <th rowspan=\"5\" valign=\"top\">1060</th>\n",
       "      <th>11</th>\n",
       "      <td>200.0</td>\n",
       "      <td>-0.000010</td>\n",
       "      <td>-172.0</td>\n",
       "    </tr>\n",
       "    <tr>\n",
       "      <th>12</th>\n",
       "      <td>200.0</td>\n",
       "      <td>-0.000020</td>\n",
       "      <td>-144.0</td>\n",
       "    </tr>\n",
       "    <tr>\n",
       "      <th>13</th>\n",
       "      <td>200.0</td>\n",
       "      <td>0.000004</td>\n",
       "      <td>-116.0</td>\n",
       "    </tr>\n",
       "    <tr>\n",
       "      <th>14</th>\n",
       "      <td>200.0</td>\n",
       "      <td>0.000018</td>\n",
       "      <td>-88.0</td>\n",
       "    </tr>\n",
       "    <tr>\n",
       "      <th>15</th>\n",
       "      <td>200.0</td>\n",
       "      <td>-0.000025</td>\n",
       "      <td>-60.0</td>\n",
       "    </tr>\n",
       "  </tbody>\n",
       "</table>\n",
       "</div>"
      ],
      "text/plain": [
       "                          b_external  kerr_rotation  probe_delay\n",
       "run_id index_2d index_1d                                        \n",
       "1      1060     11             200.0      -0.000010       -172.0\n",
       "                12             200.0      -0.000020       -144.0\n",
       "                13             200.0       0.000004       -116.0\n",
       "                14             200.0       0.000018        -88.0\n",
       "                15             200.0      -0.000025        -60.0"
      ]
     },
     "execution_count": 265,
     "metadata": {},
     "output_type": "execute_result"
    },
    {
     "data": {
      "image/png": "[encoded data removed]",
      "text/plain": [
       "<matplotlib.figure.Figure at 0x1ecb54c30f0>"
      ]
     },
     "metadata": {},
     "output_type": "display_data"
    }
   ],
   "source": [
    "import experimentdataanalysis.simulations.simple_trkr_rsa_simulation as simple_trkr_rsa_simulation\n",
    "\n",
    "# independent params\n",
    "seed = 10\n",
    "\n",
    "ndatasets = 61\n",
    "nx = 16\n",
    "dataset_bvals = np.linspace(200, 230, ndatasets)\n",
    "tvals = np.linspace(-480, -60, nx)\n",
    "\n",
    "# TEMP - full TRKR scans over huge B-range\n",
    "# ndatasets = 51\n",
    "# nx = 251\n",
    "# dataset_bvals = np.linspace(0, 200, ndatasets)\n",
    "# tvals = np.linspace(-500, 7000, nx)\n",
    "\n",
    "# simulation constants & randomly generated params\n",
    "simulation_constants = {\n",
    "    'pulse_amplitude_mean': 1e-3,\n",
    "    'pulse_amplitude_std_err': 2e-5,\n",
    "    'gfactor': 0.439,\n",
    "    'spin_lifetime_mean': 10000,\n",
    "    'spin_lifetime_std_err': 2000,\n",
    "    'initial_phase': 0.0 * np.pi,\n",
    "    'extra_phase_offset_baseline': 0.0 * np.pi,\n",
    "    'extra_phase_offset_cos_amp': 0.1 * np.pi,\n",
    "    'extra_phase_offset_cos_nperiods': 3.0,\n",
    "    'slopes_scale': 0.0,\n",
    "    'offsets_scale': 1e-4,\n",
    "    'noise_scale': 2e-5,\n",
    "}\n",
    "\n",
    "simulation_params_1 = \\\n",
    "    simple_trkr_rsa_simulation.generate_TRKR_simulation_params(nx, ndatasets,\n",
    "                                                               simulation_constants, seed)\n",
    "dataframe_1 = \\\n",
    "    simple_trkr_rsa_simulation.generate_TRKR_simulation_dataframe(tvals, dataset_bvals,\n",
    "                                                                  simulation_params,\n",
    "                                                                  suppress_plot=False)\n",
    "simulation_params_2 = \\\n",
    "    simple_trkr_rsa_simulation.generate_TRKR_simulation_params(nx, ndatasets,\n",
    "                                                               simulation_constants, seed + 1)\n",
    "dataframe_2 = \\\n",
    "    simple_trkr_rsa_simulation.generate_TRKR_simulation_dataframe(tvals, dataset_bvals[::-1],\n",
    "                                                                  simulation_params,\n",
    "                                                                  suppress_plot=True)\n",
    "dataframe_2.index.map(lambda x: (x[0] + 1, x[1], x[2]))\n",
    "dataframe_2.index = dataframe_2.index.map(lambda x: (x[0] + 1, x[1] - 1000, x[2]))\n",
    "dataframe_2.index.set_names(dataframe_1.index.names)\n",
    "dataframe = pd.concat([dataframe_1, dataframe_2])\n",
    "dataframe.tail(5)"
   ]
  },
  {
   "cell_type": "code",
   "execution_count": 266,
   "metadata": {},
   "outputs": [
    {
     "data": {
      "image/png": "[encoded data removed]",
      "text/plain": [
       "<matplotlib.figure.Figure at 0x1ecb3bf7c50>"
      ]
     },
     "metadata": {},
     "output_type": "display_data"
    }
   ],
   "source": [
    "# TEST WITH >2D INDICES\n",
    "plt.figure()\n",
    "ax = plt.subplot(111)\n",
    "data_column = 'kerr_rotation'\n",
    "x_values_column = 'probe_delay'\n",
    "y_values_column = 'b_external'\n",
    "plot_dataframe_2d(dataframe,\n",
    "                  data_column,\n",
    "                  x_values_column=x_values_column,\n",
    "                  y_values_column=y_values_column,\n",
    "                  ax=ax)\n"
   ]
  },
  {
   "cell_type": "code",
   "execution_count": null,
   "metadata": {
    "collapsed": true
   },
   "outputs": [],
   "source": []
  },
  {
   "cell_type": "code",
   "execution_count": null,
   "metadata": {
    "collapsed": true
   },
   "outputs": [],
   "source": []
  },
  {
   "cell_type": "code",
   "execution_count": null,
   "metadata": {
    "collapsed": true
   },
   "outputs": [],
   "source": []
  },
  {
   "cell_type": "code",
   "execution_count": null,
   "metadata": {
    "collapsed": true
   },
   "outputs": [],
   "source": []
  },
  {
   "cell_type": "code",
   "execution_count": null,
   "metadata": {
    "collapsed": true
   },
   "outputs": [],
   "source": [
    "\n",
    "\n",
    "\n",
    "\n",
    "\n"
   ]
  }
 ],
 "metadata": {
  "kernelspec": {
   "display_name": "Python 3",
   "language": "python",
   "name": "python3"
  },
  "language_info": {
   "codemirror_mode": {
    "name": "ipython",
    "version": 3
   },
   "file_extension": ".py",
   "mimetype": "text/x-python",
   "name": "python",
   "nbconvert_exporter": "python",
   "pygments_lexer": "ipython3",
   "version": "3.5.3"
  },
  "toc": {
   "colors": {
    "hover_highlight": "#DAA520",
    "running_highlight": "#FF0000",
    "selected_highlight": "#FFD700"
   },
   "moveMenuLeft": true,
   "nav_menu": {
    "height": "309px",
    "width": "196px"
   },
   "navigate_menu": true,
   "number_sections": true,
   "sideBar": true,
   "threshold": 4,
   "toc_cell": false,
   "toc_section_display": "block",
   "toc_window_display": false,
   "widenNotebook": false
  }
 },
 "nbformat": 4,
 "nbformat_minor": 2
}
