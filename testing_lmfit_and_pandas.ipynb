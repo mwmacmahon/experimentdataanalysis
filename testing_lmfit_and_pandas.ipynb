{
 "cells": [
  {
   "cell_type": "code",
   "execution_count": 1,
   "metadata": {
    "collapsed": true
   },
   "outputs": [],
   "source": [
    "# let's just play around with lmfit a bit, albeit\n",
    "# the general structure to be used in TRKR fitting\n",
    "# maybe work up to the same sort of fit but with fake data\n",
    "#\n",
    "%matplotlib inline\n",
    "import matplotlib.pyplot as plt\n",
    "import numpy as np\n",
    "import pandas as pd"
   ]
  },
  {
   "cell_type": "raw",
   "metadata": {},
   "source": []
  },
  {
   "cell_type": "raw",
   "metadata": {},
   "source": [
    "Want to check out:\n",
    "1. reconstruction of covariance of fit parameters w/ emcee, visualized with corner:\n",
    "    http://cars9.uchicago.edu/software/python/lmfit/fitting.html#minimizer-\n",
    "                       emcee-calculating-the-posterior-probability-distribution-of-parameters\n",
    "2. throwing together a wrapper than conveniently lets you apply a fit function directly to a groupby(),\n",
    "     probably returning an index to an entry in a list of detailed fit results, and directly inputting\n",
    "     much of the results to their own columns\n",
    "3. putting in constraints that make adjacent datasets have nearby parameters, perhaps\n",
    "     by directly adding to the residuals or something ala regularization\n",
    "\n"
   ]
  },
  {
   "cell_type": "raw",
   "metadata": {},
   "source": [
    "from http://cars9.uchicago.edu/software/python/lmfit/confidence.html :\n",
    "\n",
    "An advanced example\n",
    "Now we look at a problem where calculating the error from approximated covariance can lead to misleading result – __**two decaying exponentials**__ [emphasis mine]. In fact such a problem is particularly hard for the Levenberg-Marquardt method, so we first estimate the results using the slower but robust Nelder-Mead method, and then use Levenberg-Marquardt to estimate the uncertainties and correlations\n",
    "\n",
    "as;foajs;dfkljas;"
   ]
  },
  {
   "cell_type": "code",
   "execution_count": null,
   "metadata": {
    "collapsed": true
   },
   "outputs": [],
   "source": []
  },
  {
   "cell_type": "markdown",
   "metadata": {},
   "source": [
    "# Pandas-lmfit helper functions"
   ]
  },
  {
   "cell_type": "code",
   "execution_count": 2,
   "metadata": {
    "collapsed": true
   },
   "outputs": [],
   "source": [
    "import numpy as np\n",
    "import pandas as pd\n",
    "from lmfit import minimize\n",
    "\n",
    "def df_extract_dataset_indexed_matrices(df, column_names):\n",
    "    \"\"\"\n",
    "    Given a pandas dataframe and a list of column names, returns\n",
    "    a list of 2D numpy arrays corresponding to the data in each\n",
    "    named column. Shape of matrix is given by multi-index:\n",
    "    (# outer indices, # rows / inner indices per outer index)\n",
    "    where it is expected that each outer index labels the\n",
    "    same number of rows. If the dataframe does not have a\n",
    "    multi-index, the resulting matrix has one row.\n",
    "    \n",
    "    The number of multi-index levels should not exceed 2.\n",
    "    This function is intended for use in plugging multiple\n",
    "    datasets into an equation at once, e.g. for cross-linked\n",
    "    fitting.\n",
    "\n",
    "    This function is _exceptionally_ fast if the inner index\n",
    "    values are the same for each outer index (allowing a 2D array\n",
    "    to be generated as simply \"df.unstack()[column_name].values\")\n",
    "\n",
    "    e.g.  input parameters:\n",
    "          df =                     [data columns]\n",
    "          index_2d  index_1d       name    value     ...\n",
    "                 0         0        'A'        1     ...\n",
    "                 0         1        'B'        2     ...\n",
    "                 1         0        'C'        3     ...\n",
    "                 1         1        'D'        3     ...\n",
    "                 2         0        'E'        2     ...\n",
    "                 2         1        'F'        4     ...\n",
    "               ...       ...        ...      ...     ...\n",
    "          \n",
    "          column_names = ['name', 'value', ...]\n",
    "          \n",
    "          output: [np.array([['A', 'B'], ['C', 'D'], ['E', 'F']]),\n",
    "                   np.array([[1, 2], [3, 3], [2, 4]]),\n",
    "                   ...]\n",
    "    \"\"\"\n",
    "    if df.index.nlevels > 2:\n",
    "        raise ValueError(\"dataframe multiindex should not exceed 2 levels\")\n",
    "    elif df.index.nlevels == 2:\n",
    "        dataset_indices = df.index.levels[-2]\n",
    "        # construct by unstack() [requires repeating inner index]\n",
    "        mats = [df.unstack()[colname].values.copy()\n",
    "                for colname in column_names]\n",
    "        # check shape of final matrix is correct, else reindex and repeat\n",
    "        dataset_indexing = df.loc[dataset_indices[0]].index\n",
    "        if ymat.shape[-1] != len(dataset_indexing):\n",
    "            reindex_1d = lambda x: x.set_index(dataset_indexing)\n",
    "            safe_df = df.groupby(level=-2).apply(reindex_1d)\n",
    "            mats = [safe_df.unstack()[colname].values.copy()\n",
    "                    for colname in column_names]\n",
    "        return mats\n",
    "    else:  # just upconvert vectors to one-row 2D arrays\n",
    "        return [df[colname].values[np.newaxis, :].copy()\n",
    "                for colname in column_names]\n",
    "\n",
    "\n",
    "def df_extract_vector_lists_by_dataset(df, column_names):\n",
    "    \"\"\"\n",
    "    Given a pandas dataframe and a list of column names, returns\n",
    "    a list containing lists of the form:\n",
    "    [column_1_array, column_2_array, ...]\n",
    "    where the list corresponds to an outer index value in the given\n",
    "    dataframe, and each array corresponds to all values of a\n",
    "    named column with that outer index value.\n",
    "\n",
    "    Resulting lists are returned in the order corresponding to\n",
    "    the 2nd level of multiindex, given by df.index.levels[-2]\n",
    "\n",
    "    e.g.  input parameters:\n",
    "          df =                     [data columns]\n",
    "          index_2d  index_1d       name    value     ...\n",
    "                 0         0        'A'        1     ...\n",
    "                 0         1        'B'        2     ...\n",
    "                 1         0        'C'        3     ...\n",
    "                 1         1        'D'        3     ...\n",
    "                 2         0        'E'        2     ...\n",
    "                 2         1        'F'        4     ...\n",
    "               ...       ...        ...      ...     ...\n",
    "          \n",
    "          column_names = ['name', 'value', ...]\n",
    "          \n",
    "          output: [[np.array(['A', 'B']), np.array([1, 2])],\n",
    "                   [np.array(['C', 'D']), np.array([3, 3])],\n",
    "                   [np.array(['E', 'F']), np.array([2, 4])],\n",
    "                   ...]\n",
    "    \"\"\"\n",
    "    if df.index.nlevels > 2:\n",
    "        raise ValueError(\"dataframe multiindex should not exceed 2 levels\")\n",
    "    elif df.index.nlevels == 2:\n",
    "        dataset_indices = df.index.levels[-2]\n",
    "        dataset_vecs_list = []\n",
    "        for dataset_index in dataset_indices:\n",
    "            dataset_df = df.loc[dataset_index]\n",
    "            vecs = [dataset_df[colname].values.copy()\n",
    "                    for colname in column_names]\n",
    "            dataset_vecs_list.append(vecs)\n",
    "        return dataset_vecs_list\n",
    "    else:  # return one-dataset list\n",
    "        return [[df[colname].values.copy()\n",
    "                 for colname in column_names]]\n",
    "\n",
    "\n",
    "def df_transform_dataset_df_to_fit_row(df, group_fit_params_dict,\n",
    "                                       fit_params_to_add,\n",
    "                                       column_aggregation_dict={},\n",
    "                                       keep_const_columns=True):\n",
    "    \"\"\"\n",
    "    Function to be used with DataFrame.groupby(level=-2) on a\n",
    "    2-level-indexed dataframe to consolidate each\n",
    "    outer-index-grouped dataset into a single row describing\n",
    "    a fit performed on that dataset. By default, all columns\n",
    "    will be kept if and only if they contain a constant value\n",
    "    or an aggregation function is provided to handle that column.\n",
    "    This will remove non-const data columns from fit automatically,\n",
    "    which is likely what is wanted. Non-const columns can be kept\n",
    "    via providing an aggregation function, and more columns can\n",
    "    easily be dropped via \"del df[colname]\" if desired.\n",
    "\n",
    "    Note that currently the resulting 1-row df is squeeze()'d\n",
    "    in order to properly recombine into one row of the resulting\n",
    "    dataframe after a groupby().apply() operation. So this function\n",
    "    actually returns a series indexed by ordered column names.\n",
    "\n",
    "    e.g. input parameters:\n",
    "         df =                      x    y  bfield  elapsed_time\n",
    "            index_2d  index_1d\n",
    "                   4         0   1.0  0.1    40.0           0.0\n",
    "                   4         1   1.5  0.3    40.0          10.0\n",
    "                   4         2   2.0  0.5    40.0          20.0\n",
    "\n",
    "         group_fit_params_list   ={..., 4: Parameters({'slope': 0.2,\n",
    "                                                       'offset': 0.1}), ...}\n",
    "         fit_params_to_add       =['slope']\n",
    "         column_aggregation_dict ={'elapsed_time': lambda x: x.max()-x.min()}\n",
    "\n",
    "         output (before squeeze()):\n",
    "                        slope  bfield  elapsed_time\n",
    "            index_2d  \n",
    "                   4      0.2    40.0          20.0\n",
    "    \"\"\"\n",
    "    new_df = df.head(1)\n",
    "    for colname in list(new_df):\n",
    "        if colname in column_aggregation_dict.keys():\n",
    "            aggfcn = column_aggregation_dict[colname]\n",
    "            new_df[colname] = aggfcn(df[colname])\n",
    "            continue\n",
    "        elif keep_const_columns:  # if const, no change needed\n",
    "            first_value = df[colname].iloc[0]\n",
    "            if all(df[colname] == first_value):\n",
    "                continue\n",
    "        del new_df[colname]\n",
    "    dataset_index = df.index.get_level_values(level=-2)[0]\n",
    "    fit_params = group_fit_params_dict[dataset_index]\n",
    "    for param_name in fit_params_to_add:\n",
    "        if param_name in fit_params.keys():\n",
    "            param = fit_params[param_name]\n",
    "            new_df[param_name] = param.value\n",
    "            if param.stderr is not None:\n",
    "                if param.stderr != 0:\n",
    "                    param_error_str = param_name + '_error'\n",
    "                    new_df[param_error_str] = param.stderr\n",
    "    # groupby().apply() + squeeze() = 1-row-df -> series -> row-in-new-df\n",
    "    # (returning a 1-row-df to apply() -> get doubled index, obnoxiously)\n",
    "    # might need to revisit this sometime\n",
    "    return new_df.squeeze()\n",
    "\n",
    "\n",
    "def df_minimize_fcn_on_datasets(df, residuals_fcn, fit_params,\n",
    "                                independent_vars_columns,\n",
    "                                measured_data_column,\n",
    "                                *res_args,\n",
    "                                column_aggregation_dict={},  # KEYWORDS ONLY!\n",
    "                                keep_const_columns=True,\n",
    "                                **res_kwargs):\n",
    "    \"\"\"\n",
    "    Residuals function expected to take parameters\n",
    "    (params, xvector1, xvector2, ..., yvector, *res_args, **res_kwargs)\n",
    "    By default, drops all non-const columns in each dataset\n",
    "    and adds all fit params to dataframe.\n",
    "    \"\"\"\n",
    "    all_cols = independent_vars_columns + [measured_data_column]\n",
    "    dataset_vecs_list = df_extract_vector_lists_by_dataset(df, all_cols)\n",
    "    dataset_results_list = []  # will be in order of multiindex' outer indexing\n",
    "    dataset_fit_params_list = []\n",
    "    for vecs in dataset_vecs_list:\n",
    "        xvecs = vecs[:-1]\n",
    "        yvec = vecs[-1]\n",
    "        # TODO: add option to scalar-ize as many as all-but-one vectors if const?\n",
    "        if yvec.size == 0:\n",
    "            continue\n",
    "        result = minimize(residuals_fcn, fit_params,\n",
    "                          args=(*xvecs, yvec, *res_args),\n",
    "                          kws=res_kwargs)\n",
    "        dataset_results_list.append(result)\n",
    "        dataset_fit_params_list.append(result.params)\n",
    "    dataset_indices = df.index.levels[-2].values\n",
    "    group_fit_params_dict = dict(zip(dataset_indices,\n",
    "                                     dataset_fit_params_list))\n",
    "    fit_params_to_add = list(result.params)\n",
    "    dfgroups = df.groupby(level=-2)\n",
    "    new_df = dfgroups.apply(df_transform_dataset_df_to_fit_row,\n",
    "                            group_fit_params_dict,\n",
    "                            fit_params_to_add,\n",
    "                            column_aggregation_dict,\n",
    "                            keep_const_columns)\n",
    "    return dataset_results_list, new_df\n",
    "\n",
    "\n",
    "def df_minimize_fcn_across_linked_datasets():\n",
    "    pass\n",
    "\n",
    "\n",
    "\n"
   ]
  },
  {
   "cell_type": "code",
   "execution_count": null,
   "metadata": {
    "collapsed": true
   },
   "outputs": [],
   "source": []
  },
  {
   "cell_type": "code",
   "execution_count": null,
   "metadata": {
    "collapsed": true
   },
   "outputs": [],
   "source": []
  },
  {
   "cell_type": "markdown",
   "metadata": {},
   "source": [
    "# Testing lmfit.minimize() with pandas on discrete, 1D datasets"
   ]
  },
  {
   "cell_type": "markdown",
   "metadata": {},
   "source": [
    "NOTE: we call it \"1D\" but that's kind of confusing since the model fitfunction takes _two_ independent variables. In practice we always vary the first but keep the second constant. Specifically, we fit to new parameters each time we change the second variable. In fact, the very simple fit model would not be able to handle the behavior of actual 2D data. It's a 2D _function_, but not a 2D _model_."
   ]
  },
  {
   "cell_type": "markdown",
   "metadata": {},
   "source": [
    "## 1D Fit Model"
   ]
  },
  {
   "cell_type": "code",
   "execution_count": 3,
   "metadata": {
    "collapsed": true
   },
   "outputs": [],
   "source": [
    "# TODO: if this works well, spin this crap off into a pandas-lmfit-stuff-we-do helper package\n",
    "\n",
    "# GLOBAL CONSTANTS\n",
    "GFACTORCONSTANT = 1.3996e-5  # 1/(ps*mTesla), = bohr magneton/2*pi*hbar\n",
    "LASER_REPRATE = 13158  # ps period\n",
    "\n",
    "def fitfcn_cosine(delay_time, b_external,  # <- independent vars,\n",
    "                  gfactor,  # <- potentially linked parameters across datasets in run,\n",
    "                  amplitude, phase_offset,  # <- rest are unlinked parameters unique to current dataset\n",
    "                  y_offset):\n",
    "    \"\"\"\n",
    "    Oversimplified cosine fit that assumes phase @t=0 is always 0.\n",
    "    Expected to act on very few data points, so brings in expected ang. freq using b_external.\n",
    "\n",
    "    Independent variables: delay_time (can vary), b_external (must be const.)\n",
    "    Parameters: gfactor, amplitude, phase_offset, y_offset\n",
    "\n",
    "    IMPORTANT NOTE: Despite this function taking more than one independent variable,\n",
    "    this model is ONLY 1D. Only the first should be allowed to vary during a run,\n",
    "    the other independent variables are there for convenience when fitting to pandas\n",
    "    dataframes and should really be thought of more as constant parameters (scalar\n",
    "    values are not only acceptable, they are preferred for speed reasons to the\n",
    "    alternative - arrays of same shape as first independent variable)\n",
    "    \"\"\"\n",
    "    osc_ang_freq = 2 * np.pi * GFACTORCONSTANT * gfactor * b_external\n",
    "    pos_def_delay = delay_time % LASER_REPRATE\n",
    "    signal = amplitude * np.cos(osc_ang_freq * pos_def_delay + phase_offset)\n",
    "    return signal + y_offset\n",
    "\n",
    "\n",
    "def residuals_fitfcn_cosine(params, delay_time, b_external, measured_data=None):\n",
    "    \"\"\"\n",
    "    Residual wrapper for lmfit minimize() for function fitfcn_cosine.\n",
    "    Uses given parameters and independent variables to evaluate function.\n",
    "    If data is given, returns (data - function_output) for use in least\n",
    "    squares optimization. If data is not given or None, just returns\n",
    "    the function output.\n",
    "\n",
    "    Follows the style used in the lmfit documentation on minimize().\n",
    "    \"\"\"\n",
    "    # unpack parameters:\n",
    "    #  extract .value attribute for each parameter\n",
    "    param_values = params.valuesdict()\n",
    "    gfactor      = param_values['gfactor']\n",
    "    amplitude    = param_values['amplitude']\n",
    "    phase_offset = param_values['phase_offset']\n",
    "    y_offset     = param_values['y_offset']\n",
    "    fitfcn_results = fitfcn_cosine(delay_time, b_external,\n",
    "                                   gfactor, amplitude, phase_offset, y_offset)\n",
    "    if measured_data is None:\n",
    "        return fitfcn_results\n",
    "    return fitfcn_results - measured_data\n",
    "\n",
    "\n",
    "def pandas_residuals_fitfcn_cosine(params, dataframe,\n",
    "                                   independent_vars_column_names,\n",
    "                                   measured_data_column_name=None,\n",
    "                                   check_for_const_bext=True,\n",
    "                                   collapse_bext_to_scalar=True):\n",
    "    \"\"\"\n",
    "    Wrapper for residuals_fitfcn_cosine to accept a pandas dataframe.\n",
    "\n",
    "    Uses the dataframe and column names to extract numpy arrays which\n",
    "    are forwarded to the wrapped function. Optionally, independent\n",
    "    variables that the model does not expect to vary within a dataset\n",
    "    can be checked to ensure a constant value and can even be collapsed\n",
    "    to a scalar for faster processing.\n",
    "    \"\"\"\n",
    "    # unpack pandas dataframe:\n",
    "    delay_time_colname, b_external_colname = independent_vars_column_names\n",
    "    delay_time_vals = dataframe[delay_time_colname].values\n",
    "    b_external_vals = dataframe[b_external_colname].values\n",
    "    # optional: throw an error if b_external column is not single-valued\n",
    "    if check_for_const_bext:\n",
    "        if np.any(b_external_vals != b_external_vals[0]):\n",
    "            raise ValueError(\"pandas dataframe contained multiple values for \" +\n",
    "                             \"'b_external', but this variable is expected \" +\n",
    "                             \"to be constant in fit model 'fitfcn_cosine'.\")\n",
    "    # optional: convert b_external from vector to scalar for speed (since const.)\n",
    "    if collapse_bext_to_scalar:\n",
    "        b_external_vals = b_external_vals[0]\n",
    "    fitfcn_results = fitfcn_cosine(delay_time_vals, b_external_vals,\n",
    "                                   gfactor, amplitude, phase_offset, y_offset)    \n",
    "    if measured_data_column_name is None:\n",
    "        return fitfcn_results\n",
    "    measured_data_vals = dataframe[measured_data_column_name].values\n",
    "    return fitfcn_results - measured_data_vals\n",
    "\n"
   ]
  },
  {
   "cell_type": "markdown",
   "metadata": {},
   "source": [
    "## Optional regularization wrapper"
   ]
  },
  {
   "cell_type": "code",
   "execution_count": 4,
   "metadata": {
    "collapsed": true
   },
   "outputs": [],
   "source": [
    "def regularization_residual_wrapper(params, residual_fcn, *residual_fcn_args,\n",
    "                                    phs_offs_bending_regularization=False, phs_offs_bending_alpha=0.005,\n",
    "                                    **residual_fcn_kwargs):\n",
    "    residuals = residual_fcn(params, *residual_fcn_args, **residual_fcn_kwargs)\n",
    "    return residuals"
   ]
  },
  {
   "cell_type": "markdown",
   "metadata": {},
   "source": [
    "## 1D Parameter setup and constraints"
   ]
  },
  {
   "cell_type": "code",
   "execution_count": 5,
   "metadata": {
    "collapsed": true
   },
   "outputs": [],
   "source": [
    "from lmfit import Parameters\n",
    "\n",
    "params_guesses = [('gfactor',        {'value' : 0.439,\n",
    "                                      'vary'  : False}),\n",
    "                  ('amplitude',      {'value' : 1e-3,\n",
    "                                      'min'   : 0.0,\n",
    "                                      'max'   : 1.0}),\n",
    "                  ('phase_offset',   {'value' : 0.0,\n",
    "                                      'min'   : -np.pi,\n",
    "                                      'max'   : +np.pi}),\n",
    "                  ('y_offset',       {'value' : 0.0,\n",
    "                                      'min'   : -1e-3,\n",
    "                                      'max'   : +1e-3}),\n",
    "                 ]\n",
    "\n",
    "fit_params = Parameters()\n",
    "for param_name, param_guess_dict in params_guesses:\n",
    "    fit_params.add(param_name, **param_guess_dict)\n",
    "\n"
   ]
  },
  {
   "cell_type": "markdown",
   "metadata": {},
   "source": [
    "## Fake data creation"
   ]
  },
  {
   "cell_type": "code",
   "execution_count": 6,
   "metadata": {},
   "outputs": [
    {
     "data": {
      "image/png": "[encoded data removed]",
      "text/plain": [
       "<matplotlib.figure.Figure at 0x1bdaa25d128>"
      ]
     },
     "metadata": {},
     "output_type": "display_data"
    }
   ],
   "source": [
    "# create some fake data\n",
    "ndatasets = 21\n",
    "sweep_bvals = np.linspace(200, 208, ndatasets)\n",
    "tvals = np.linspace(-500, -100, 6)\n",
    "\n",
    "# CONUNDRUM: why does huge amts of data vs no data make almost\n",
    "# no difference in ability to find phase_offset accurately!?\n",
    "# but changing noise level makes gigantic difference...\n",
    "#tvals = np.linspace(-2100, -100, 201)\n",
    "#tvals = np.linspace(0, 10000, 1000)\n",
    "\n",
    "amplitudes = 1e-3 + 5e-4 * np.cos((np.pi / 2) + (np.pi / 8) * np.arange(len(sweep_bvals)))\n",
    "gfactor = 0.439\n",
    "phase_offsets = (np.pi / 8) * np.cos((np.pi / 8) * np.arange(len(sweep_bvals)))\n",
    "y_offsets = np.random.normal(size=len(sweep_bvals), scale=1e-3)\n",
    "indices_1d = range(len(tvals))\n",
    "indices_2d = range(len(sweep_bvals))\n",
    "scan_1d_results= []\n",
    "for index_2d in indices_2d:\n",
    "    delay_times = tvals\n",
    "    b_external = sweep_bvals[index_2d]\n",
    "    amplitude = amplitudes[index_2d]\n",
    "    gfactor = gfactor\n",
    "    phase_offset = phase_offsets[index_2d]\n",
    "    y_offset = y_offsets[index_2d]\n",
    "    yvals = fitfcn_cosine(delay_times, b_external,\n",
    "                          gfactor, amplitude, phase_offset, y_offset)\n",
    "    noisy_yvals = yvals + np.random.normal(size=len(yvals), scale=1e-4)\n",
    "    scan_1d_results.append(noisy_yvals)\n",
    "\n",
    "X_bvals, X_tvals = np.meshgrid(sweep_bvals, tvals, indexing='ij',\n",
    "                               sparse=False, copy=True)  # not sure on ideal settings here\n",
    "independent_data_matrices = [X_tvals, X_bvals]\n",
    "measured_data = np.array(scan_1d_results)\n",
    "ndatasets = len(sweep_bvals)\n",
    "nx = len(tvals)\n",
    "\n",
    "plt.imshow(measured_data, interpolation='None', aspect=nx/ndatasets)\n",
    "\n",
    "# pandas dataframe conversion\n",
    "run_ids = np.zeros(measured_data.size, dtype=np.int)\n",
    "indices_2d, indices_1d = np.meshgrid(np.arange(len(sweep_bvals)),\n",
    "                                     np.arange(len(tvals)),\n",
    "                                     indexing='ij', sparse=False, copy=True)\n",
    "dataframe = pd.DataFrame({'run_id'        : run_ids,\n",
    "                          'index_2d'      : indices_2d.flatten(),\n",
    "                          'index_1d'      : indices_1d.flatten(),\n",
    "                          'b_external'    : X_bvals.flatten(),\n",
    "                          'probe_delay'   : X_tvals.flatten(),\n",
    "                          'kerr_rotation' : measured_data.flatten(),\n",
    "                         })\n",
    "dataframe.set_index(['run_id', 'index_2d', 'index_1d'], drop=True, append=False, inplace=True)\n",
    "dataframe.sort_index(ascending=True, inplace=True)  # not actually necessary, but nice to be sure\n",
    "#dataframe.head(10)"
   ]
  },
  {
   "cell_type": "markdown",
   "metadata": {},
   "source": [
    "## 1D Fit to fake data"
   ]
  },
  {
   "cell_type": "code",
   "execution_count": 7,
   "metadata": {
    "scrolled": true
   },
   "outputs": [
    {
     "data": {
      "image/png": "[encoded data removed]",
      "text/plain": [
       "<matplotlib.figure.Figure at 0x1bdaa21f128>"
      ]
     },
     "metadata": {},
     "output_type": "display_data"
    },
    {
     "data": {
      "image/png": "[encoded data removed]",
      "text/plain": [
       "<matplotlib.figure.Figure at 0x1bdabf6d550>"
      ]
     },
     "metadata": {},
     "output_type": "display_data"
    },
    {
     "data": {
      "image/png": "[encoded data removed]",
      "text/plain": [
       "<matplotlib.figure.Figure at 0x1bdac4231d0>"
      ]
     },
     "metadata": {},
     "output_type": "display_data"
    }
   ],
   "source": [
    "from lmfit import minimize, report_fit\n",
    "\n",
    "# 1D FIT\n",
    "results = []\n",
    "for dataset_index in range(ndatasets):\n",
    "    delay_time_vals = X_tvals[dataset_index]\n",
    "    b_external_vals = X_bvals[dataset_index]\n",
    "    measured_vals   = measured_data[dataset_index]\n",
    "    result = minimize(residuals_fitfcn_cosine, fit_params,     # <- fitfcn & the Parameters() to be fit\n",
    "                      args=(delay_time_vals, b_external_vals,  # <- other reqs of residuals fcn (i.e. X's, Y)\n",
    "                            measured_vals),\n",
    "                      kws={},                                  # <- keyword args for fit fcn, if any\n",
    "                     )\n",
    "    results.append(result)\n",
    "#     if dataset_index == 3:\n",
    "#         print(result.nfev)\n",
    "#         yvals = subsubdf[data_column_name]\n",
    "#         fityvals = residuals_fitfcn_cosine(result.params,\n",
    "#                                            delay_time_vals, b_external_vals)\n",
    "#         fitydiff = residuals_fitfcn_cosine(result.params,\n",
    "#                                            delay_time_vals, b_external_vals,\n",
    "#                                            measured_vals)\n",
    "#         plt.plot(yvals, 'b')\n",
    "#         plt.plot(fityvals, 'r')\n",
    "#         plt.plot(fitydiff, 'g')\n",
    "\n",
    "# # 1D FIT W/PANDAS\n",
    "# independent_vars_column_names = ['probe_delay', 'b_external']\n",
    "# data_column_name = 'kerr_rotation'\n",
    "# subdf = dataframe.xs(0, level='run_id')\n",
    "# results = []\n",
    "# for dataset_index in range(ndatasets):\n",
    "#     subsubdf = subdf.xs(dataset_index, level='index_2d')\n",
    "#     result = minimize(pandas_residuals_fitfcn_cosine, fit_params,  # <- fitfcn & the Parameters() to be fit\n",
    "#                       args=(subsubdf,                              # <- other reqs of residuals fcn\n",
    "#                             independent_vars_column_names,\n",
    "#                             data_column_name),\n",
    "#                       kws={},                                      # <- keyword args for fit fcn, if any\n",
    "#                      )\n",
    "#     results.append(result)\n",
    "#     if dataset_index == 3:\n",
    "#         print(result.nfev)\n",
    "#         yvals = subsubdf[data_column_name]\n",
    "#         fityvals = pandas_residuals_fitfcn_cosine(result.params, subsubdf,\n",
    "#                                                   independent_vars_column_names)\n",
    "#         fitydiff = pandas_residuals_fitfcn_cosine(result.params, subsubdf,\n",
    "#                                                   independent_vars_column_names,\n",
    "#                                                   data_column_name)\n",
    "#         plt.plot(yvals, 'b')\n",
    "#         plt.plot(fityvals, 'r')\n",
    "#         plt.plot(fitydiff, 'g')\n",
    "\n",
    "paramname_realvalues_pairs = [\n",
    "                              ('amplitude', amplitudes),\n",
    "                              ('phase_offset', phase_offsets),\n",
    "                              ('y_offset', y_offsets),\n",
    "                             ]\n",
    "for param_name, realvals in paramname_realvalues_pairs:\n",
    "    matching_params = [result.params[param_name]\n",
    "                       for result in results]\n",
    "    param_vals = [param.value for param in matching_params]\n",
    "    param_stderrs = [param.stderr for param in matching_params]\n",
    "    plt.figure()\n",
    "    plt.title(param_name)\n",
    "    if len(sweep_bvals) == len(realvals):\n",
    "        xvals = sweep_bvals\n",
    "    else:\n",
    "        xvals = np.arange(len(realvals))\n",
    "    plt.plot(xvals, realvals, label='actual')\n",
    "    if param_stderrs is not None:\n",
    "        plt.errorbar(xvals, param_vals, param_stderrs, label='fit results')\n",
    "    else:\n",
    "        plt.plot(xvals, param_vals, label='fit results')\n",
    "    plt.legend()\n",
    "    plt.show()\n",
    "\n"
   ]
  },
  {
   "cell_type": "code",
   "execution_count": 8,
   "metadata": {},
   "outputs": [
    {
     "ename": "NameError",
     "evalue": "name 'df' is not defined",
     "output_type": "error",
     "traceback": [
      "\u001b[1;31m---------------------------------------------------------------------------\u001b[0m",
      "\u001b[1;31mNameError\u001b[0m                                 Traceback (most recent call last)",
      "\u001b[1;32m<ipython-input-8-6fae94b3c442>\u001b[0m in \u001b[0;36m<module>\u001b[1;34m()\u001b[0m\n\u001b[1;32m----> 1\u001b[1;33m \u001b[0mdf\u001b[0m\u001b[1;33m.\u001b[0m\u001b[0mhead\u001b[0m\u001b[1;33m(\u001b[0m\u001b[1;36m10\u001b[0m\u001b[1;33m)\u001b[0m\u001b[1;33m\u001b[0m\u001b[0m\n\u001b[0m",
      "\u001b[1;31mNameError\u001b[0m: name 'df' is not defined"
     ]
    }
   ],
   "source": [
    "df.head(10)"
   ]
  },
  {
   "cell_type": "code",
   "execution_count": 9,
   "metadata": {},
   "outputs": [
    {
     "data": {
      "text/html": [
       "<div>\n",
       "<table border=\"1\" class=\"dataframe\">\n",
       "  <thead>\n",
       "    <tr style=\"text-align: right;\">\n",
       "      <th></th>\n",
       "      <th>b_external</th>\n",
       "      <th>gfactor</th>\n",
       "      <th>amplitude</th>\n",
       "      <th>amplitude_error</th>\n",
       "      <th>phase_offset</th>\n",
       "      <th>phase_offset_error</th>\n",
       "      <th>y_offset</th>\n",
       "      <th>y_offset_error</th>\n",
       "    </tr>\n",
       "    <tr>\n",
       "      <th>index_2d</th>\n",
       "      <th></th>\n",
       "      <th></th>\n",
       "      <th></th>\n",
       "      <th></th>\n",
       "      <th></th>\n",
       "      <th></th>\n",
       "      <th></th>\n",
       "      <th></th>\n",
       "    </tr>\n",
       "  </thead>\n",
       "  <tbody>\n",
       "    <tr>\n",
       "      <th>0</th>\n",
       "      <td>200.0</td>\n",
       "      <td>0.439</td>\n",
       "      <td>0.000945</td>\n",
       "      <td>0.000058</td>\n",
       "      <td>0.252928</td>\n",
       "      <td>0.078952</td>\n",
       "      <td>0.000079</td>\n",
       "      <td>0.000055</td>\n",
       "    </tr>\n",
       "    <tr>\n",
       "      <th>1</th>\n",
       "      <td>200.4</td>\n",
       "      <td>0.439</td>\n",
       "      <td>0.001819</td>\n",
       "      <td>0.000781</td>\n",
       "      <td>0.738559</td>\n",
       "      <td>0.254511</td>\n",
       "      <td>0.001000</td>\n",
       "      <td>0.000202</td>\n",
       "    </tr>\n",
       "    <tr>\n",
       "      <th>2</th>\n",
       "      <td>200.8</td>\n",
       "      <td>0.439</td>\n",
       "      <td>0.000467</td>\n",
       "      <td>0.000065</td>\n",
       "      <td>-0.049422</td>\n",
       "      <td>0.161195</td>\n",
       "      <td>-0.000012</td>\n",
       "      <td>0.000058</td>\n",
       "    </tr>\n",
       "    <tr>\n",
       "      <th>3</th>\n",
       "      <td>201.2</td>\n",
       "      <td>0.439</td>\n",
       "      <td>0.000624</td>\n",
       "      <td>0.000073</td>\n",
       "      <td>0.077881</td>\n",
       "      <td>0.091944</td>\n",
       "      <td>0.000952</td>\n",
       "      <td>0.000054</td>\n",
       "    </tr>\n",
       "    <tr>\n",
       "      <th>4</th>\n",
       "      <td>201.6</td>\n",
       "      <td>0.439</td>\n",
       "      <td>0.001091</td>\n",
       "      <td>0.000333</td>\n",
       "      <td>0.175833</td>\n",
       "      <td>0.177269</td>\n",
       "      <td>0.001000</td>\n",
       "      <td>0.000223</td>\n",
       "    </tr>\n",
       "  </tbody>\n",
       "</table>\n",
       "</div>"
      ],
      "text/plain": [
       "          b_external  gfactor  amplitude  amplitude_error  phase_offset  \\\n",
       "index_2d                                                                  \n",
       "0              200.0    0.439   0.000945         0.000058      0.252928   \n",
       "1              200.4    0.439   0.001819         0.000781      0.738559   \n",
       "2              200.8    0.439   0.000467         0.000065     -0.049422   \n",
       "3              201.2    0.439   0.000624         0.000073      0.077881   \n",
       "4              201.6    0.439   0.001091         0.000333      0.175833   \n",
       "\n",
       "          phase_offset_error  y_offset  y_offset_error  \n",
       "index_2d                                                \n",
       "0                   0.078952  0.000079        0.000055  \n",
       "1                   0.254511  0.001000        0.000202  \n",
       "2                   0.161195 -0.000012        0.000058  \n",
       "3                   0.091944  0.000952        0.000054  \n",
       "4                   0.177269  0.001000        0.000223  "
      ]
     },
     "execution_count": 9,
     "metadata": {},
     "output_type": "execute_result"
    },
    {
     "data": {
      "image/png": "[encoded data removed]",
      "text/plain": [
       "<matplotlib.figure.Figure at 0x1bdac593198>"
      ]
     },
     "metadata": {},
     "output_type": "display_data"
    }
   ],
   "source": [
    "df = dataframe.loc[0]\n",
    "residuals_fcn = residuals_fitfcn_cosine\n",
    "fit_params = fit_params\n",
    "independent_vars_columns = [\"probe_delay\", \"b_external\"]\n",
    "measured_data_column = \"kerr_rotation\"\n",
    "fit_params_to_add = ['amplitude', 'phase_offset']\n",
    "column_aggregation_dict = {'time_elapsed': lambda x: x.tail(1).values}\n",
    "keep_const_columns = True\n",
    "\n",
    "dataset_results, new_df = \\\n",
    "    df_minimize_fcn_on_datasets(df, residuals_fcn, fit_params,\n",
    "                                independent_vars_columns,\n",
    "                                measured_data_column,\n",
    "                                column_aggregation_dict=column_aggregation_dict,  # keywords only!\n",
    "                                keep_const_columns=keep_const_columns)\n",
    "plt.figure(figsize=(8,4))\n",
    "ax1 = plt.subplot(1,2,1)\n",
    "new_df['amplitude'].plot.line(ax=ax1)\n",
    "plt.title('amplitude')\n",
    "ax2 = plt.subplot(1,2,2)\n",
    "new_df['phase_offset'].plot.line(ax=ax2)\n",
    "plt.title('phase_offset')\n",
    "new_df.head()"
   ]
  },
  {
   "cell_type": "code",
   "execution_count": null,
   "metadata": {
    "collapsed": true
   },
   "outputs": [],
   "source": []
  },
  {
   "cell_type": "code",
   "execution_count": null,
   "metadata": {
    "collapsed": true
   },
   "outputs": [],
   "source": []
  },
  {
   "cell_type": "code",
   "execution_count": null,
   "metadata": {
    "collapsed": true
   },
   "outputs": [],
   "source": []
  },
  {
   "cell_type": "code",
   "execution_count": null,
   "metadata": {
    "collapsed": true
   },
   "outputs": [],
   "source": []
  },
  {
   "cell_type": "markdown",
   "metadata": {},
   "source": [
    "# Testing lmfit.minimize() with pandas with cross-linked 1D datasets"
   ]
  },
  {
   "cell_type": "markdown",
   "metadata": {},
   "source": [
    "NOTE: we call it \"1D\" but that's kind of confusing since the model fitfunction takes _two_ independent variables. In practice we always vary the first but keep the second constant. Specifically, we fit to new parameters each time we change the second variable. In fact, the very simple fit model would not be able to handle the behavior of actual 2D data. It's a 2D _function_, but not a 2D _model_."
   ]
  },
  {
   "cell_type": "markdown",
   "metadata": {},
   "source": [
    "## 1D Fit Model"
   ]
  },
  {
   "cell_type": "code",
   "execution_count": 129,
   "metadata": {
    "collapsed": true
   },
   "outputs": [],
   "source": [
    "# TODO: if this works well, spin this crap off into a pandas-lmfit-stuff-we-do helper package\n",
    "\n",
    "# GLOBAL CONSTANTS\n",
    "GFACTORCONSTANT = 1.3996e-5  # 1/(ps*mTesla), = bohr magneton/2*pi*hbar\n",
    "LASER_REPRATE = 13158  # ps period\n",
    "\n",
    "def fitfcn_cosine(delay_time, b_external,  # <- independent vars,\n",
    "                  gfactor,  # <- potentially linked parameters across datasets in run,\n",
    "                  amplitude, phase_offset,  # <- rest are unlinked parameters unique to current dataset\n",
    "                  y_offset):\n",
    "    \"\"\"\n",
    "    Oversimplified cosine fit that assumes phase @t=0 is always 0.\n",
    "    Expected to act on very few data points, so brings in expected ang. freq.\n",
    "    \"\"\"\n",
    "    osc_ang_freq = 2 * np.pi * GFACTORCONSTANT * gfactor * b_external\n",
    "    pos_def_delay = delay_time % LASER_REPRATE\n",
    "    signal = amplitude * np.cos(osc_ang_freq * pos_def_delay + phase_offset)\n",
    "    return signal + y_offset\n"
   ]
  },
  {
   "cell_type": "markdown",
   "metadata": {},
   "source": [
    "## Cross-Linked-Datasets Fit Model Expansion"
   ]
  },
  {
   "cell_type": "code",
   "execution_count": 130,
   "metadata": {
    "collapsed": true
   },
   "outputs": [],
   "source": [
    "def dataset_fitfcn_cosine(params, dataset_index, independent_data_vecs):\n",
    "    \"\"\"\n",
    "    Given (params, dataset_index, independent_data_vecs), extracts from\n",
    "    params the parameters relevant to dataset_index, then returns\n",
    "    the calculated result of the fit function for the given independent_data_vecs\n",
    "    (which should be a list of ndarrays of equal length, each corresponding to\n",
    "    the same dataset as to which param_subset_index corresponds)     \n",
    "\n",
    "    fitfunction: fitfcn_cosine\n",
    "    fitfcn parameters: gfactor, amplitude, phase_offset, y_offset\n",
    "    independent_data_vecs: [delay_time, b_external]\n",
    "    \"\"\"\n",
    "    delay_time, b_external = independent_data_vecs\n",
    "    gfactor      = params['gfactor_%i' % (dataset_index + 1)].value\n",
    "    amplitude    = params['amplitude_%i' % (dataset_index + 1)].value\n",
    "    phase_offset = params['phase_offset_%i' % (dataset_index + 1)].value\n",
    "    y_offset     = params['y_offset_%i' % (dataset_index + 1)].value\n",
    "    return fitfcn_cosine(delay_time, b_external,\n",
    "                         gfactor, amplitude, phase_offset, y_offset)\n",
    "\n",
    "\n",
    "def multidataset_residuals_fitfcn_cosine(params,\n",
    "                                         independent_data_matrices,\n",
    "                                         measured_data=None):\n",
    "    \"\"\"\n",
    "    Calculates the summed residuals between the fits described by params and the\n",
    "    'actual' results in measured_data.\n",
    "\n",
    "    If the independent variables change between the different datasets being fit,\n",
    "    each matrix in independent_data_matrices should have the same shape as\n",
    "    measured_data, just corresponding to the values of an independent variable\n",
    "    instead (think of it like the matrices np.meshgrid() outputs for each\n",
    "    independent variable). If the independent variables are identical between\n",
    "    the different datasets being fit, each matrix can simply be a 1D vector\n",
    "    corresponding to any given row of measured_data.\n",
    "    \"\"\"\n",
    "    dataset_fit_function = dataset_fitfcn_cosine\n",
    "    if measured_data is None:\n",
    "        xmatrices = np.broadcast_arrays(*independent_data_matrices)\n",
    "    else:\n",
    "        xymatrices = np.broadcast_arrays(*independent_data_matrices, measured_data)\n",
    "        xmatrices = xymatrices[:-1]\n",
    "        ymatrix = xymatrices[-1]\n",
    "    ndatasets, nx = xmatrices[0].shape\n",
    "    dataset_fitfcn_results = np.zeros((ndatasets, nx))\n",
    "    for dataset_index in range(ndatasets):\n",
    "        xvecs = [xmatrix[dataset_index, :]\n",
    "                 for xmatrix in xmatrices]\n",
    "        dataset_fitfcn_results[dataset_index, :] = dataset_fit_function(params, dataset_index, xvecs)\n",
    "    if measured_data is None:\n",
    "        return dataset_fitfcn_results\n",
    "    residuals = ymatrix - dataset_fitfcn_results\n",
    "    return residuals.flatten()\n",
    "\n",
    "\n",
    "\n",
    "\n",
    "\n",
    "\n",
    "# TODO: test alternative approach to pandas functions:\n",
    "# TODO:     \\-> returns vectors/matrices to send to\n",
    "# TODO:         non-pandas versions (for 1D/2D),\n",
    "# TODO:         e.g. xvecs, yvec = pandas_df_extractor(df, dim=1, xcolnames, ycolname)\n",
    "# TODO:              minimize(fcn, params, args=(xvecs, yvec))\n",
    "\n",
    "\n",
    "# link these ^ v ?\n",
    "\n",
    "# TODO: test using pivot tables of index_1d and index_2d followed\n",
    "# TODO: by '.values' to group each column into an array of shape\n",
    "# TODO: (ndatasets, nx) to send directly to residual fcn\n",
    "# TODO: [or simpler, grab each column as series and unstack()]\n",
    "\n",
    "\n",
    "# def extract_dataframe_xymatrices(params, dataframe,\n",
    "#                                  independent_vars_column_names,\n",
    "#                                  measured_data_column_name=None):\n",
    "\n",
    "\n",
    "\n",
    "# def pandas_multidataset_residuals_fitfcn_cosine(params, dataframe,\n",
    "#                                                 independent_vars_column_names,\n",
    "#                                                 measured_data_column_name=None):\n",
    "#     multidataset_residuals_function = multidataset_residuals_fitfcn_cosine\n",
    "#     # unpack pandas dataframe:\n",
    "#     indep_vars_column_vals = [dataframe[column_name]\n",
    "#                               for column_name in independent_vars_column_names]\n",
    "#     if data_column_name is None:\n",
    "#         measured_data = None\n",
    "#     else:\n",
    "#         measured_data_column_vals = dataframe[measured_data_column_name]\n",
    "\n",
    "\n",
    "#     return multidataset_residuals_function(params, independent_data_matrices, measured_data)\n",
    "\n",
    "# def pandas_residuals_fitfcn_cosine(params, dataframe,\n",
    "#                                    independent_vars_column_names,\n",
    "#                                    data_column_name=None,\n",
    "#                                    check_for_const_bext=True,\n",
    "#                                    collapse_bext_to_scalar=True):\n",
    "#     \"\"\"\n",
    "#     Wrapper for residuals_fitfcn_cosine to accept a pandas dataframe.\n",
    "\n",
    "#     Uses the dataframe and column names to extract numpy arrays which\n",
    "#     are forwarded to the wrapped function. Optionally, independent\n",
    "#     variables that the model does not expect to vary within a dataset\n",
    "#     can be checked to ensure a constant value and can even be collapsed\n",
    "#     to a scalar for faster processing.\n",
    "#     \"\"\"\n",
    "#     # unpack pandas dataframe:\n",
    "#     delay_time_colname, b_external_colname = independent_vars_column_names\n",
    "#     delay_time_vals = dataframe[delay_time_colname].values\n",
    "#     b_external_vals = dataframe[b_external_colname].values\n",
    "#     # optional: throw an error if b_external column is not single-valued\n",
    "#     if check_for_const_bext:\n",
    "#         if np.any(b_external_vals != b_external_vals[0]):\n",
    "#             raise ValueError(\"pandas dataframe contained multiple values for \" +\n",
    "#                              \"'b_external', but this variable is expected \" +\n",
    "#                              \"to be constant in fit model 'fitfcn_cosine'.\")\n",
    "#     # optional: convert b_external from vector to scalar for speed (since const.)\n",
    "#     if collapse_bext_to_scalar:\n",
    "#         b_external_vals = b_external_vals[0]\n",
    "#     fitfcn_results = fitfcn_cosine(delay_time_vals, b_external_vals,\n",
    "#                                    gfactor, amplitude, phase_offset, y_offset)    \n",
    "#     if data_column_name is None:\n",
    "#         return fitfcn_results\n",
    "#     data_vals = dataframe[data_column_name].values\n",
    "#     return fitfcn_results - data_vals"
   ]
  },
  {
   "cell_type": "markdown",
   "metadata": {},
   "source": [
    "## Optional regularization wrapper"
   ]
  },
  {
   "cell_type": "code",
   "execution_count": 131,
   "metadata": {
    "collapsed": true
   },
   "outputs": [],
   "source": [
    "def regularization_residual_wrapper(params, residual_fcn, *residual_fcn_args,\n",
    "                                    phs_offs_bending_regularization=False, phs_offs_bending_alpha=0.005,\n",
    "                                    **residual_fcn_kwargs):\n",
    "    residuals = residual_fcn(params, *residual_fcn_args, **residual_fcn_kwargs)\n",
    "\n",
    "    # since least-squares methods require an array of residuals,\n",
    "    # just scale all values to add in extra error\n",
    "    if phs_offs_bending_regularization:\n",
    "        def scale_invariant_bending_energy(yvals):\n",
    "            bending_energy = np.sum(np.diff(yvals, n=2)**2)\n",
    "            bending_energy = bending_energy / (len(ys) - 2)\n",
    "#            bending_energy = bending_energy / (np.sum(yvals**2) * (len(ys) - 2))  # scale invariance bad!\n",
    "            return bending_energy\n",
    "        matching_params = [val for key, val in result.params.items()\n",
    "                           if 'phase_offset' in key]\n",
    "        phase_offsets = np.array([param.value for param in matching_params])\n",
    "        bending_energy = scale_invariant_bending_energy(phase_offsets)\n",
    "        residual_norm = np.linalg.norm(residuals)  # the value that \"matters\" to fit algorithms\n",
    "        penalty_factor = np.sqrt(1 + (phs_offs_bending_alpha * bending_energy / residual_norm)**2)\n",
    "        residuals *= penalty_factor \n",
    "\n",
    "    return residuals"
   ]
  },
  {
   "cell_type": "markdown",
   "metadata": {},
   "source": [
    "## Fake data creation"
   ]
  },
  {
   "cell_type": "code",
   "execution_count": 132,
   "metadata": {
    "scrolled": true
   },
   "outputs": [
    {
     "data": {
      "image/png": "[encoded data removed]",
      "text/plain": [
       "<matplotlib.figure.Figure at 0x24a91e5bb38>"
      ]
     },
     "metadata": {},
     "output_type": "display_data"
    }
   ],
   "source": [
    "# create some fake data\n",
    "ndatasets = 21\n",
    "sweep_bvals = np.linspace(200, 208, ndatasets)\n",
    "tvals = np.linspace(-500, -100, 6)\n",
    "\n",
    "# CONUNDRUM: why does huge amts of data vs no data make almost\n",
    "# no difference in ability to find phase_offset accurately!?\n",
    "# but changing noise level makes gigantic difference...\n",
    "#tvals = np.linspace(-2100, -100, 201)\n",
    "#tvals = np.linspace(0, 10000, 1000)\n",
    "\n",
    "amplitudes = 1e-3 + 5e-4 * np.cos((np.pi / 2) + (np.pi / 8) * np.arange(len(sweep_bvals)))\n",
    "gfactor = 0.439\n",
    "phase_offsets = (np.pi / 8) * np.cos((np.pi / 8) * np.arange(len(sweep_bvals)))\n",
    "y_offsets = np.random.normal(size=len(sweep_bvals), scale=3e-4)\n",
    "indices_1d = range(len(tvals))\n",
    "indices_2d = range(len(sweep_bvals))\n",
    "scan_1d_results= []\n",
    "for index_2d in indices_2d:\n",
    "    delay_times = tvals\n",
    "    b_external = sweep_bvals[index_2d]\n",
    "    amplitude = amplitudes[index_2d]\n",
    "    gfactor = gfactor\n",
    "    phase_offset = phase_offsets[index_2d]\n",
    "    y_offset = y_offsets[index_2d]\n",
    "    yvals = fitfcn_cosine(delay_times, b_external,\n",
    "                          gfactor, amplitude, phase_offset, y_offset)\n",
    "    noisy_yvals = yvals + np.random.normal(size=len(yvals), scale=1e-4)\n",
    "    scan_1d_results.append(noisy_yvals)\n",
    "\n",
    "X_bvals, X_tvals = np.meshgrid(sweep_bvals, tvals, indexing='ij',\n",
    "                               sparse=False, copy=True)  # not sure on ideal settings here\n",
    "independent_data_matrices = [X_tvals, X_bvals]\n",
    "measured_data = np.array(scan_1d_results)\n",
    "ndatasets = len(sweep_bvals)\n",
    "nx = len(tvals)\n",
    "\n",
    "plt.imshow(measured_data, interpolation='None', aspect=nx/ndatasets)\n",
    "\n",
    "# pandas dataframe conversion\n",
    "run_ids = np.zeros(measured_data.size, dtype=np.int)\n",
    "indices_2d, indices_1d = np.meshgrid(np.arange(len(sweep_bvals)),\n",
    "                                     np.arange(len(tvals)),\n",
    "                                     indexing='ij', sparse=False, copy=True)\n",
    "dataframe = pd.DataFrame({'run_id'        : run_ids,\n",
    "                          'index_2d'      : indices_2d.flatten(),\n",
    "                          'index_1d'      : indices_1d.flatten(),\n",
    "                          'b_external'    : X_bvals.flatten(),\n",
    "                          'probe_delay'   : X_tvals.flatten(),\n",
    "                          'kerr_rotation' : measured_data.flatten(),\n",
    "                         })\n",
    "dataframe.set_index(['run_id', 'index_2d', 'index_1d'], drop=True, append=False, inplace=True)\n",
    "dataframe.sort_index(ascending=True, inplace=True)  # not actually necessary, but nice to be sure\n",
    "#dataframe.head(10)\n"
   ]
  },
  {
   "cell_type": "markdown",
   "metadata": {},
   "source": [
    "## Cross-data-set parameter setup and constraints"
   ]
  },
  {
   "cell_type": "code",
   "execution_count": 133,
   "metadata": {
    "collapsed": true
   },
   "outputs": [],
   "source": [
    "from lmfit import Parameters\n",
    "\n",
    "# create [ndatasets] sets of parameters, one per data set\n",
    "params_guesses = [('gfactor',        {'value' : 0.439,\n",
    "                                      'vary'  : False}),\n",
    "                  ('amplitude',      {'value' : 1e-3,\n",
    "                                      'min'   : 0.0,\n",
    "                                      'max'   : 1.0}),\n",
    "                  ('phase_offset',   {'value' : 0.0,\n",
    "                                      'min'   : -np.pi,\n",
    "                                      'max'   : +np.pi,\n",
    "                                      'vary'  : True}),\n",
    "                  ('y_offset',       {'value' : 0.0,\n",
    "                                      'min'   : -1e-3,\n",
    "                                      'max'   : +1e-3}),\n",
    "                 ]\n",
    "fit_params = Parameters()\n",
    "for param_name, param_guess_dict in params_guesses:\n",
    "    for dataset_index in range(ndatasets):\n",
    "        fit_params.add('%s_%i' % (param_name, dataset_index + 1), **param_guess_dict)\n",
    "\n",
    "# add constraints\n",
    "for dataset_index in range(1, ndatasets):\n",
    "    # constrain all gfactors to be the same:\n",
    "    fit_params['gfactor_%i' % (dataset_index + 1)].expr='gfactor_1'\n",
    "\n",
    "    # constrain all phase offsets to be somewhat continuous\n",
    "    this_label = 'phase_offset_%i' % (dataset_index + 1)\n",
    "    last_label = 'phase_offset_%i' % dataset_index\n",
    "    diff_label = 'phs_offs_diff_%i_minus_%i' % (dataset_index + 1, dataset_index)\n",
    "\n",
    "    # method 1: unconstrained/soft-constrained differences\n",
    "    fit_params.add(diff_label, vary=False,\n",
    "                   expr=(this_label + '-' + last_label))\n",
    "\n",
    "#     # method 2: hard-constrained differences\n",
    "#     fit_params.add(diff_label, vary=True,\n",
    "#                    value=0.0,\n",
    "#                    min=-0.2*np.pi,\n",
    "#                    max=+0.2*np.pi)\n",
    "#     fit_params[this_label].vary = False\n",
    "#     fit_params[this_label].expr = last_label + '+' + diff_label\n",
    "\n"
   ]
  },
  {
   "cell_type": "code",
   "execution_count": 134,
   "metadata": {},
   "outputs": [
    {
     "data": {
      "text/plain": [
       "['gfactor_1',\n",
       " 'gfactor_2',\n",
       " 'gfactor_3',\n",
       " 'gfactor_4',\n",
       " 'gfactor_5',\n",
       " 'gfactor_6',\n",
       " 'gfactor_7',\n",
       " 'gfactor_8',\n",
       " 'gfactor_9',\n",
       " 'gfactor_10',\n",
       " 'gfactor_11',\n",
       " 'gfactor_12',\n",
       " 'gfactor_13',\n",
       " 'gfactor_14',\n",
       " 'gfactor_15',\n",
       " 'gfactor_16',\n",
       " 'gfactor_17',\n",
       " 'gfactor_18',\n",
       " 'gfactor_19',\n",
       " 'gfactor_20',\n",
       " 'gfactor_21',\n",
       " 'amplitude_1',\n",
       " 'amplitude_2',\n",
       " 'amplitude_3',\n",
       " 'amplitude_4',\n",
       " 'amplitude_5',\n",
       " 'amplitude_6',\n",
       " 'amplitude_7',\n",
       " 'amplitude_8',\n",
       " 'amplitude_9',\n",
       " 'amplitude_10',\n",
       " 'amplitude_11',\n",
       " 'amplitude_12',\n",
       " 'amplitude_13',\n",
       " 'amplitude_14',\n",
       " 'amplitude_15',\n",
       " 'amplitude_16',\n",
       " 'amplitude_17',\n",
       " 'amplitude_18',\n",
       " 'amplitude_19',\n",
       " 'amplitude_20',\n",
       " 'amplitude_21',\n",
       " 'phase_offset_1',\n",
       " 'phase_offset_2',\n",
       " 'phase_offset_3',\n",
       " 'phase_offset_4',\n",
       " 'phase_offset_5',\n",
       " 'phase_offset_6',\n",
       " 'phase_offset_7',\n",
       " 'phase_offset_8',\n",
       " 'phase_offset_9',\n",
       " 'phase_offset_10',\n",
       " 'phase_offset_11',\n",
       " 'phase_offset_12',\n",
       " 'phase_offset_13',\n",
       " 'phase_offset_14',\n",
       " 'phase_offset_15',\n",
       " 'phase_offset_16',\n",
       " 'phase_offset_17',\n",
       " 'phase_offset_18',\n",
       " 'phase_offset_19',\n",
       " 'phase_offset_20',\n",
       " 'phase_offset_21',\n",
       " 'y_offset_1',\n",
       " 'y_offset_2',\n",
       " 'y_offset_3',\n",
       " 'y_offset_4',\n",
       " 'y_offset_5',\n",
       " 'y_offset_6',\n",
       " 'y_offset_7',\n",
       " 'y_offset_8',\n",
       " 'y_offset_9',\n",
       " 'y_offset_10',\n",
       " 'y_offset_11',\n",
       " 'y_offset_12',\n",
       " 'y_offset_13',\n",
       " 'y_offset_14',\n",
       " 'y_offset_15',\n",
       " 'y_offset_16',\n",
       " 'y_offset_17',\n",
       " 'y_offset_18',\n",
       " 'y_offset_19',\n",
       " 'y_offset_20',\n",
       " 'y_offset_21',\n",
       " 'phs_offs_diff_2_minus_1',\n",
       " 'phs_offs_diff_3_minus_2',\n",
       " 'phs_offs_diff_4_minus_3',\n",
       " 'phs_offs_diff_5_minus_4',\n",
       " 'phs_offs_diff_6_minus_5',\n",
       " 'phs_offs_diff_7_minus_6',\n",
       " 'phs_offs_diff_8_minus_7',\n",
       " 'phs_offs_diff_9_minus_8',\n",
       " 'phs_offs_diff_10_minus_9',\n",
       " 'phs_offs_diff_11_minus_10',\n",
       " 'phs_offs_diff_12_minus_11',\n",
       " 'phs_offs_diff_13_minus_12',\n",
       " 'phs_offs_diff_14_minus_13',\n",
       " 'phs_offs_diff_15_minus_14',\n",
       " 'phs_offs_diff_16_minus_15',\n",
       " 'phs_offs_diff_17_minus_16',\n",
       " 'phs_offs_diff_18_minus_17',\n",
       " 'phs_offs_diff_19_minus_18',\n",
       " 'phs_offs_diff_20_minus_19',\n",
       " 'phs_offs_diff_21_minus_20']"
      ]
     },
     "execution_count": 134,
     "metadata": {},
     "output_type": "execute_result"
    }
   ],
   "source": [
    "list(fit_params)"
   ]
  },
  {
   "cell_type": "markdown",
   "metadata": {},
   "source": [
    "## Fit to fake data"
   ]
  },
  {
   "cell_type": "code",
   "execution_count": 32,
   "metadata": {},
   "outputs": [
    {
     "data": {
      "image/png": "[encoded data removed]",
      "text/plain": [
       "<matplotlib.figure.Figure at 0x2775e0426a0>"
      ]
     },
     "metadata": {},
     "output_type": "display_data"
    }
   ],
   "source": [
    "from lmfit import minimize, report_fit\n",
    "\n",
    "# 1.5D FIT W/OUT PANDAS, REGULARIZATION\n",
    "result = minimize(multidataset_residuals_fitfcn_cosine,       # <- residual of fitfcn & fit Parameters()\n",
    "                  fit_params,\n",
    "                  args=(independent_data_matrices,            # <- other reqs of residuals fcn (i.e. Xs & Y)\n",
    "                        measured_data),\n",
    "                  kws={}                                      # <- keyword args for fit fcn, if any\n",
    "                 )\n",
    "# report_fit(result.params)\n",
    "\n",
    "# # 1.5D FIT W/OUT PANDAS, W/REGULARIZATION\n",
    "# result = minimize(regularization_residual_wrapper, fit_params,  # <- regularization wrapper & fit Parameters()\n",
    "#                   args=(multidataset_residuals_fitfcn_cosine,   # <- residual fcn to be regularized\n",
    "#                         independent_data_matrices,              # <- other reqs of residuals fcn (i.e. Xs & Y)\n",
    "#                         measured_data),\n",
    "#                   kws={'phs_offs_bending_regularization' : False, # <- reg. keywords captured en route\n",
    "#                        'phs_offs_bending_alpha'          : 3.0}   # to residual fcn, others pass through\n",
    "#                  )\n",
    "# # report_fit(result.params)\n",
    "\n",
    "# # 1.5D FIT W/ PANDAS, W/OUT REGULARIZATION\n",
    "# independent_vars_column_names = ['probe_delay', 'b_external']\n",
    "# data_column_name = 'kerr_rotation'\n",
    "# subdf = dataframe.xs(0, level='run_id')\n",
    "# result = minimize(pandas_multidataset_residuals_fitfcn_cosine,# <- residual of fitfcn & fit Parameters()\n",
    "#                   fit_params,\n",
    "#                   args=(dataframe,                            # <- other reqs of residuals fcn (i.e. Xs & Y)\n",
    "#                         independent_vars_column_names,\n",
    "#                         data_column_name),\n",
    "#                   kws={}                                      # <- keyword args for fit fcn, if any\n",
    "#                  )\n",
    "# # report_fit(result.params)\n",
    "\n",
    "# # 1.5D FIT W/PANDAS, REGULARIZATION\n",
    "# independent_vars_column_names = ['probe_delay', 'b_external']\n",
    "# data_column_name = 'kerr_rotation'\n",
    "# subdf = dataframe.xs(0, level='index_1d')\n",
    "# result = minimize(regularization_residual_wrapper, fit_params,# <- regularization fcn & fit Parameters()\n",
    "#                   args=(dataframe,                            # <- other reqs of residuals fcn\n",
    "#                         independent_vars_column_names,\n",
    "#                         data_column_name),\n",
    "#                   kws={residual_fcn:\n",
    "#                            pandas_multidataset_residuals_fitfcn_cosine,  # <- residual fcn to be regularized\n",
    "#                        phs_offs_diff_regularization : False,  # <- regularization keywords captured en route\n",
    "#                        phs_offs_diff_alpha          : 0.005}  #    to residual fcn, any others pass through\n",
    "#                  )\n",
    "# # report_fit(result.params)\n",
    "\n",
    "paramname_realvalues_pairs = [\n",
    "#                              ('amplitude', amplitudes),\n",
    "                              ('phase_offset', phase_offsets),\n",
    "#                              ('phs_offs_diff', np.diff(phase_offsets)),\n",
    "#                              ('y_offset', y_offsets),\n",
    "                             ]\n",
    "for param_name, realvals in paramname_realvalues_pairs:\n",
    "    matching_params = [val for key, val in result.params.items()\n",
    "                       if param_name in key]\n",
    "    param_vals = [param.value for param in matching_params]\n",
    "    param_stderrs = [param.stderr for param in matching_params]\n",
    "    plt.figure()\n",
    "    plt.title(param_name)\n",
    "    if len(sweep_bvals) == len(realvals):\n",
    "        xvals = sweep_bvals\n",
    "    else:\n",
    "        xvals = np.arange(len(realvals))\n",
    "    plt.plot(xvals, realvals, label='actual')\n",
    "    if param_stderrs is not None:\n",
    "        plt.errorbar(xvals, param_vals, param_stderrs, label='fit results')\n",
    "    else:\n",
    "        plt.plot(xvals, param_vals, label='fit results')\n",
    "    plt.legend()\n",
    "    plt.show()"
   ]
  },
  {
   "cell_type": "code",
   "execution_count": null,
   "metadata": {
    "collapsed": true
   },
   "outputs": [],
   "source": []
  },
  {
   "cell_type": "code",
   "execution_count": null,
   "metadata": {
    "collapsed": true
   },
   "outputs": [],
   "source": []
  },
  {
   "cell_type": "code",
   "execution_count": null,
   "metadata": {
    "collapsed": true
   },
   "outputs": [],
   "source": []
  },
  {
   "cell_type": "code",
   "execution_count": null,
   "metadata": {
    "collapsed": true
   },
   "outputs": [],
   "source": []
  },
  {
   "cell_type": "code",
   "execution_count": null,
   "metadata": {
    "collapsed": true
   },
   "outputs": [],
   "source": []
  },
  {
   "cell_type": "code",
   "execution_count": null,
   "metadata": {
    "collapsed": true
   },
   "outputs": [],
   "source": []
  },
  {
   "cell_type": "markdown",
   "metadata": {},
   "source": [
    "# Potentially useful reference code"
   ]
  },
  {
   "cell_type": "markdown",
   "metadata": {},
   "source": [
    "## Timing analysis for pandas access function options"
   ]
  },
  {
   "cell_type": "code",
   "execution_count": 422,
   "metadata": {
    "collapsed": true
   },
   "outputs": [],
   "source": [
    "df = dataframe\n",
    "df = df.loc[0]\n",
    "#df = df.loc[0]"
   ]
  },
  {
   "cell_type": "code",
   "execution_count": 416,
   "metadata": {
    "collapsed": true
   },
   "outputs": [],
   "source": [
    "# optional: change index_1d to be not the same between datasets\n",
    "df = df.reset_index()\n",
    "df['index_1d'] = df.index\n",
    "df.set_index(['index_2d', 'index_1d'], append=False, drop=True, inplace=True)\n",
    "#df.unstack()['b_external'].head()"
   ]
  },
  {
   "cell_type": "code",
   "execution_count": 423,
   "metadata": {},
   "outputs": [
    {
     "name": "stdout",
     "output_type": "stream",
     "text": [
      "3.5 ms ± 554 µs per loop (mean ± std. dev. of 7 runs, 100 loops each)\n"
     ]
    }
   ],
   "source": [
    "%%timeit\n",
    "# 2D pivot-style access of 2D structure\n",
    "# METHOD 1: UNSTACK() WITHOUT GUARD\n",
    "independent_vars_column_names = [\"probe_delay\", \"b_external\"]\n",
    "data_column_name = \"kerr_rotation\"\n",
    "if df.index.nlevels > 2:\n",
    "    raise ValueError(\"dataframe multiindex should not exceed 2 levels\")\n",
    "elif df.index.nlevels == 2:\n",
    "    # construct by unstack() [requires repeating inner index]\n",
    "    xmats = [df.unstack()[colname].values.copy()\n",
    "             for colname in independent_vars_column_names]\n",
    "    ymat = df.unstack()[data_column_name].values.copy()\n",
    "else:  # just upconvert vectors to one-row 2D arrays\n",
    "    xmats = [df[colname].values[np.newaxis, :].copy()\n",
    "             for colname in independent_vars_column_names]\n",
    "    ymat = df[data_column_name].values[np.newaxis, :].copy()\n",
    "xmats, ymat  # pretend to do something"
   ]
  },
  {
   "cell_type": "code",
   "execution_count": 424,
   "metadata": {},
   "outputs": [
    {
     "name": "stdout",
     "output_type": "stream",
     "text": [
      "17 ms ± 983 µs per loop (mean ± std. dev. of 7 runs, 100 loops each)\n"
     ]
    }
   ],
   "source": [
    "%%timeit\n",
    "# 2D pivot-style access of 2D structure\n",
    "# METHOD 2: UNSTACK() WITH REINDEXING\n",
    "independent_vars_column_names = [\"probe_delay\", \"b_external\"]\n",
    "data_column_name = \"kerr_rotation\"\n",
    "if df.index.nlevels > 2:\n",
    "    raise ValueError(\"dataframe multiindex should not exceed 2 levels\")\n",
    "elif df.index.nlevels == 2:\n",
    "    # ensure inner index repeats w/ groupby() [slow]\n",
    "    dataset_indices = df.index.levels[-2].values\n",
    "    dataset_indexing = df.loc[dataset_indices[0]].index\n",
    "    reindex_1d = lambda x: x.set_index(dataset_indexing)\n",
    "    safe_df = df.groupby(level=-2).apply(reindex_1d)\n",
    "\n",
    "    # construct by unstack() [requires repeating inner index]\n",
    "    xmats = [safe_df.unstack()[colname].values.copy()\n",
    "             for colname in independent_vars_column_names]\n",
    "    ymat = safe_df.unstack()[data_column_name].values.copy()\n",
    "else:  # just upconvert vectors to one-row 2D arrays\n",
    "    xmats = [df[colname].values[np.newaxis, :].copy()\n",
    "             for colname in independent_vars_column_names]\n",
    "    ymat = df[data_column_name].values[np.newaxis, :].copy()\n",
    "xmats, ymat  # pretend to do something"
   ]
  },
  {
   "cell_type": "code",
   "execution_count": 426,
   "metadata": {},
   "outputs": [
    {
     "name": "stdout",
     "output_type": "stream",
     "text": [
      "4.14 ms ± 774 µs per loop (mean ± std. dev. of 7 runs, 100 loops each)\n"
     ]
    }
   ],
   "source": [
    "%%timeit\n",
    "# 2D pivot-style access of 2D structure\n",
    "# METHOD 3: UNSTACK() WITH GUARD\n",
    "independent_vars_column_names = [\"probe_delay\", \"b_external\"]\n",
    "data_column_name = \"kerr_rotation\"\n",
    "if df.index.nlevels > 2:\n",
    "    raise ValueError(\"dataframe multiindex should not exceed 2 levels\")\n",
    "elif df.index.nlevels == 2:\n",
    "    # construct by unstack() [requires repeating inner index]\n",
    "    xmats = [df.unstack()[colname].values.copy()\n",
    "             for colname in independent_vars_column_names]\n",
    "    ymat = df.unstack()[data_column_name].values.copy()\n",
    "\n",
    "    # check shape of final matrix is correct, else reindex and repeat\n",
    "    dataset_indices = df.index.levels[-2].values\n",
    "    dataset_indexing = df.loc[dataset_indices[0]].index\n",
    "    if ymat.shape[-1] != len(dataset_indexing):\n",
    "        reindex_1d = lambda x: x.set_index(dataset_indexing)\n",
    "        safe_df = df.groupby(level=-2).apply(reindex_1d)\n",
    "        xmats = [safe_df.unstack()[colname].values.copy()\n",
    "                 for colname in independent_vars_column_names]\n",
    "        ymat = safe_df.unstack()[data_column_name].values.copy()\n",
    "else:  # just upconvert vectors to one-row 2D arrays\n",
    "    xmats = [df[colname].values[np.newaxis, :].copy()\n",
    "             for colname in independent_vars_column_names]\n",
    "    ymat = df[data_column_name].values[np.newaxis, :].copy()\n",
    "xmats, ymat  # pretend to do something\n",
    "xmats[0]"
   ]
  },
  {
   "cell_type": "code",
   "execution_count": 427,
   "metadata": {},
   "outputs": [
    {
     "name": "stdout",
     "output_type": "stream",
     "text": [
      "30.3 ms ± 4.09 ms per loop (mean ± std. dev. of 7 runs, 10 loops each)\n"
     ]
    }
   ],
   "source": [
    "%%timeit\n",
    "# 2D pivot-style access of 2D structure\n",
    "# METHOD 4: NUMPY MATRIX CONSTRUCTION\n",
    "independent_vars_column_names = [\"probe_delay\", \"b_external\"]\n",
    "data_column_name = \"kerr_rotation\"\n",
    "if df.index.nlevels > 2:\n",
    "    raise ValueError(\"dataframe multiindex should not exceed 2 levels\")\n",
    "elif df.index.nlevels == 2:\n",
    "    dataset_indices = df.index.levels[-2].values\n",
    "    dataset_length = len(df.loc[dataset_indices[0]])\n",
    "    n_datasets = len(dataset_indices)\n",
    "    xmats = [np.zeros((n_datasets, dataset_length))\n",
    "             for colname in independent_vars_column_names]\n",
    "    ymat = np.zeros((n_datasets, dataset_length))\n",
    "    for dataset_index in dataset_indices:\n",
    "        for xmat, colname in zip(xmats, independent_vars_column_names):\n",
    "            xmat[dataset_index, :] = df.loc[dataset_index][colname].values\n",
    "        ymat[dataset_index, :] = df.loc[dataset_index][data_column_name].values\n",
    "else:  # just upconvert vectors to one-row 2D arrays\n",
    "    xmats = [df[colname].values[np.newaxis, :]\n",
    "             for colname in independent_vars_column_names]\n",
    "    ymat = df[data_column_name].values[np.newaxis, :]\n",
    "xmats, ymat  # pretend to do something"
   ]
  },
  {
   "cell_type": "code",
   "execution_count": 389,
   "metadata": {},
   "outputs": [
    {
     "name": "stdout",
     "output_type": "stream",
     "text": [
      "10.4 ms ± 1.35 ms per loop (mean ± std. dev. of 7 runs, 100 loops each)\n"
     ]
    }
   ],
   "source": [
    "%%timeit\n",
    "# looped 1D access of 2D structure\n",
    "independent_vars_column_names = [\"probe_delay\", \"b_external\"]\n",
    "data_column_name = \"kerr_rotation\"\n",
    "if df.index.nlevels > 2:\n",
    "    raise ValueError(\"dataframe multiindex should not exceed 2 levels\")\n",
    "elif df.index.nlevels == 2:\n",
    "    dataset_indices = df.index.levels[-2]\n",
    "    dataset_length = len(df.loc[indices_2d[0]])\n",
    "    dataset_xvecs_list = []\n",
    "    dataset_yvec_list = []\n",
    "    for dataset_index in dataset_indices:\n",
    "        dataset_df = df.loc[dataset_index]\n",
    "        if len(dataset_df) != dataset_length:\n",
    "            raise ValueError(\"using 2-level multiindexed dataframe requires same \" +\n",
    "                             \"# rows spanned by each outer index to ensure equal-\" +\n",
    "                             \"length datasets\")\n",
    "        xvecs = [dataset_df[colname].values.copy()\n",
    "                 for colname in independent_vars_column_names]\n",
    "        yvec = dataset_df[data_column_name].values.copy()\n",
    "        dataset_xvecs_list.append(xvecs)\n",
    "        dataset_yvec_list.append(yvec)\n",
    "else:\n",
    "    xvecs = [df[colname].values.copy()\n",
    "             for colname in independent_vars_column_names]\n",
    "    yvec = df[data_column_name].values.copy()\n",
    "    dataset_xvecs_list = [xvecs]\n",
    "    dataset_yvec_list = [yvec]"
   ]
  },
  {
   "cell_type": "code",
   "execution_count": 15,
   "metadata": {},
   "outputs": [
    {
     "data": {
      "text/html": [
       "<div>\n",
       "<table border=\"1\" class=\"dataframe\">\n",
       "  <thead>\n",
       "    <tr style=\"text-align: right;\">\n",
       "      <th></th>\n",
       "      <th></th>\n",
       "      <th>b_external</th>\n",
       "      <th>kerr_rotation</th>\n",
       "      <th>probe_delay</th>\n",
       "      <th>lol</th>\n",
       "      <th>time_elapsed</th>\n",
       "    </tr>\n",
       "    <tr>\n",
       "      <th>index_2d</th>\n",
       "      <th>index_1d</th>\n",
       "      <th></th>\n",
       "      <th></th>\n",
       "      <th></th>\n",
       "      <th></th>\n",
       "      <th></th>\n",
       "    </tr>\n",
       "  </thead>\n",
       "  <tbody>\n",
       "    <tr>\n",
       "      <th rowspan=\"6\" valign=\"top\">0</th>\n",
       "      <th>0</th>\n",
       "      <td>200.0</td>\n",
       "      <td>-0.000379</td>\n",
       "      <td>-500.0</td>\n",
       "      <td>lol</td>\n",
       "      <td>0.0</td>\n",
       "    </tr>\n",
       "    <tr>\n",
       "      <th>1</th>\n",
       "      <td>200.0</td>\n",
       "      <td>0.000344</td>\n",
       "      <td>-420.0</td>\n",
       "      <td>lol</td>\n",
       "      <td>1.6</td>\n",
       "    </tr>\n",
       "    <tr>\n",
       "      <th>2</th>\n",
       "      <td>200.0</td>\n",
       "      <td>0.001036</td>\n",
       "      <td>-340.0</td>\n",
       "      <td>lol</td>\n",
       "      <td>3.2</td>\n",
       "    </tr>\n",
       "    <tr>\n",
       "      <th>3</th>\n",
       "      <td>200.0</td>\n",
       "      <td>0.001241</td>\n",
       "      <td>-260.0</td>\n",
       "      <td>lol</td>\n",
       "      <td>4.8</td>\n",
       "    </tr>\n",
       "    <tr>\n",
       "      <th>4</th>\n",
       "      <td>200.0</td>\n",
       "      <td>0.001374</td>\n",
       "      <td>-180.0</td>\n",
       "      <td>lol</td>\n",
       "      <td>6.4</td>\n",
       "    </tr>\n",
       "    <tr>\n",
       "      <th>5</th>\n",
       "      <td>200.0</td>\n",
       "      <td>0.001200</td>\n",
       "      <td>-100.0</td>\n",
       "      <td>lol</td>\n",
       "      <td>8.0</td>\n",
       "    </tr>\n",
       "  </tbody>\n",
       "</table>\n",
       "</div>"
      ],
      "text/plain": [
       "                   b_external  kerr_rotation  probe_delay  lol  time_elapsed\n",
       "index_2d index_1d                                                           \n",
       "0        0              200.0      -0.000379       -500.0  lol           0.0\n",
       "         1              200.0       0.000344       -420.0  lol           1.6\n",
       "         2              200.0       0.001036       -340.0  lol           3.2\n",
       "         3              200.0       0.001241       -260.0  lol           4.8\n",
       "         4              200.0       0.001374       -180.0  lol           6.4\n",
       "         5              200.0       0.001200       -100.0  lol           8.0"
      ]
     },
     "execution_count": 15,
     "metadata": {},
     "output_type": "execute_result"
    }
   ],
   "source": [
    "# TESTING df_transform_dataset_df_to_fit_row\n",
    "\n",
    "# params for test:\n",
    "fit_params = fit_params\n",
    "fit_params_to_add = ['amplitude', 'phase_offset']\n",
    "columns_to_drop = ['kerr_rotation']\n",
    "keep_const_columns = True\n",
    "column_aggregation_dict = {'time_elapsed': lambda x: x.tail(1).values}\n",
    "\n",
    "# test:\n",
    "df = dataframe.loc[0]\n",
    "df['lol'] = 'lol'\n",
    "df['time_elapsed'] = 10.0 + (0.02 * df['probe_delay'])\n",
    "assert df.index.nlevels == 2\n",
    "dfg = df.groupby(level=-2, sort=False)\n",
    "dfg.get_group(0)\n",
    "# new_df = dfg.apply(df_transform_dataset_df_to_fit_row,\n",
    "#                    result.params, fit_params_to_add,\n",
    "#                    column_aggregation_dict)\n",
    "# new_df"
   ]
  },
  {
   "cell_type": "code",
   "execution_count": 146,
   "metadata": {
    "scrolled": true
   },
   "outputs": [
    {
     "data": {
      "text/html": [
       "<div>\n",
       "<table border=\"1\" class=\"dataframe\">\n",
       "  <thead>\n",
       "    <tr style=\"text-align: right;\">\n",
       "      <th></th>\n",
       "      <th>b_external</th>\n",
       "      <th>probe_delay</th>\n",
       "    </tr>\n",
       "    <tr>\n",
       "      <th>index_2d</th>\n",
       "      <th></th>\n",
       "      <th></th>\n",
       "    </tr>\n",
       "  </thead>\n",
       "  <tbody>\n",
       "    <tr>\n",
       "      <th>0</th>\n",
       "      <td>200.0</td>\n",
       "      <td>-500.0</td>\n",
       "    </tr>\n",
       "  </tbody>\n",
       "</table>\n",
       "</div>"
      ],
      "text/plain": [
       "          b_external  probe_delay\n",
       "index_2d                         \n",
       "0              200.0       -500.0"
      ]
     },
     "execution_count": 146,
     "metadata": {},
     "output_type": "execute_result"
    }
   ],
   "source": [
    "df = dataframe.loc[0]\n",
    "df = df.loc[0:0]  # the break from python syntax hurts my brain\n",
    "# ^ simulate getting groupby result\n",
    "\n",
    "fit_params = fit_params\n",
    "fit_params_to_add = ['amplitude', 'phase_offset']\n",
    "columns_to_drop = [\"kerr_rotation\"]\n",
    "keep_const_columns = True\n",
    "column_aggregation_dict = {\"probe_delay\": lambda x: x.head(1)}\n",
    "# ^ simulate input options\n",
    "\n",
    "new_df = df.head(1)\n",
    "new_df = new_df.reset_index(level=-1, drop=True)\n",
    "for colname in list(new_df):\n",
    "    if colname in column_aggregation_dict.keys():\n",
    "        aggfcn = column_aggregation_dict[colname]\n",
    "        new_df[colname] = aggfcn(df[colname]).values\n",
    "        continue\n",
    "    elif keep_const_columns:  # if const, no change needed\n",
    "        if colname not in columns_to_drop:\n",
    "            first_value = df[colname].iloc[0]\n",
    "            if all(df[colname] == first_value):\n",
    "                continue\n",
    "    del new_df[colname]\n",
    "new_df\n",
    "\n"
   ]
  },
  {
   "cell_type": "markdown",
   "metadata": {},
   "source": [
    "## stackexchange code used as example for cross-linked set analysis"
   ]
  },
  {
   "cell_type": "code",
   "execution_count": null,
   "metadata": {
    "collapsed": true
   },
   "outputs": [],
   "source": [
    "# # EXAMPLE CODE: FITTING MULTIPLE DATASETS WITH SOME LINKED, SOME UNLINKED PARAMETERS\n",
    "\n",
    "# # STACKEXCHANGE CODE\n",
    "# # http://stackoverflow.com/questions/20339234/\n",
    "# #                               python-and-lmfit-how-to-fit-multiple-datasets-with-shared-parameters\n",
    "# from lmfit import minimize, Parameters, report_fit\n",
    "\n",
    "# def gauss(x, amp, cen, sigma):\n",
    "#     \"basic gaussian\"\n",
    "#     return amp*np.exp(-(x-cen)**2/(2.*sigma**2))\n",
    "\n",
    "# def gauss_dataset(params, i, x):\n",
    "#     \"\"\"calc gaussian from params for data set i\n",
    "#     using simple, hardwired naming convention\"\"\"\n",
    "#     amp = params['amp_%i' % (i+1)].value\n",
    "#     cen = params['cen_%i' % (i+1)].value\n",
    "#     sig = params['sig_%i' % (i+1)].value\n",
    "#     return gauss(x, amp, cen, sig)\n",
    "\n",
    "# def objective(params, x, data):\n",
    "#     \"\"\" calculate total residual for fits to several data sets held\n",
    "#     in a 2-D array, and modeled by Gaussian functions\"\"\"\n",
    "#     ndata, nx = data.shape\n",
    "#     resid = np.zeros_like(data)  # originally resid = 0.0*data[:]\n",
    "#     # make residual per data set\n",
    "#     for i in range(ndata):\n",
    "#         resid[i, :] = data[i, :] - gauss_dataset(params, i, x)\n",
    "#     # now flatten this to a 1D array, as minimize() needs\n",
    "#     return resid.flatten()\n",
    "\n",
    "# # create [ndata] datasets\n",
    "# ndata = 6\n",
    "# x  = np.linspace( -2, 2, 201)\n",
    "# data = []\n",
    "# for i in np.arange(ndata):\n",
    "#     params = Parameters()\n",
    "#     amp   =  5.00 + 2.50*(2*np.random.rand()-1)\n",
    "#     cen   =  0.00 + 1.50*(2*np.random.rand()-1)\n",
    "#     sig   =  0.25 + 0.03*(2*np.random.rand()-1)\n",
    "#     dat   = gauss(x, amp, cen, sig) + np.random.normal(size=len(x), scale=0.1)\n",
    "#     data.append(dat)\n",
    "\n",
    "# # data has shape ([ndata], 201)\n",
    "# data = np.array(data)\n",
    "# assert(data.shape) == (ndata, 201)\n",
    "\n",
    "# # create [ndata] sets of parameters, one per data set\n",
    "# params_guesses = [('amp', {'value' : 5.0,\n",
    "#                            'min'   : 0.0,\n",
    "#                            'max'   : 200.0}),\n",
    "#                   ('cen', {'value' : 0.0,\n",
    "#                            'min'   : -2.0,\n",
    "#                            'max'   : +2.0}),\n",
    "#                   ('sig', {'value' : 0.3,\n",
    "#                            'min'   : 0.01,\n",
    "#                            'max'   : 3.00}),\n",
    "#                  ]\n",
    "# fit_params = Parameters()\n",
    "# for param_name, param_guess_dict in params_guesses:\n",
    "#     for iy, _ in enumerate(data):\n",
    "#         fit_params.add('%s_%i' % (param_name, iy+1), **param_guess_dict)\n",
    "\n",
    "# # but now constrain all values of sigma to have the same value\n",
    "# # by assigning sig_2, sig_3, .. sig_5 to be equal to sig_1\n",
    "# for iy in range(1,ndata):\n",
    "#     fit_params['sig_%i' % (iy+1)].expr='sig_1'\n",
    "\n",
    "# # run the global fit to all the data sets\n",
    "# result = minimize(objective, fit_params, args=(x, data))\n",
    "# report_fit(result.params)\n",
    "\n",
    "# # plot the data sets and fits\n",
    "# plt.figure()\n",
    "# for i in range(ndata):\n",
    "#     y_fit = gauss_dataset(result.params, i, x)\n",
    "#     plt.plot(x, data[i, :], 'o', x, y_fit, '-')\n",
    "\n",
    "# plt.show()"
   ]
  },
  {
   "cell_type": "code",
   "execution_count": null,
   "metadata": {
    "collapsed": true
   },
   "outputs": [],
   "source": []
  },
  {
   "cell_type": "markdown",
   "metadata": {
    "collapsed": true
   },
   "source": [
    "## testing measures of jaggnesness for regularization"
   ]
  },
  {
   "cell_type": "code",
   "execution_count": null,
   "metadata": {
    "collapsed": true
   },
   "outputs": [],
   "source": [
    "\n",
    "n = 20\n",
    "ncols = 2\n",
    "noisescales = [0.05, 0.1, 0.2]\n",
    "plt.figure(figsize=(6,6))\n",
    "for row, noisescale in enumerate(noisescales):\n",
    "    for col in range(ncols):\n",
    "        xs = np.linspace(0, 1, n)\n",
    "        ys = np.sin(2 * np.pi * xs) + noisescale * np.random.randn(n)\n",
    "        jaggedness = np.sum(np.diff(ys, n=2)**2)  # np.gradient instead?\n",
    "\n",
    "        plt.subplot(len(noisescales), ncols, ncols * row + col + 1)\n",
    "        plt.plot(xs, ys)\n",
    "        plt.xticks([])\n",
    "        plt.title(jaggedness)"
   ]
  },
  {
   "cell_type": "code",
   "execution_count": null,
   "metadata": {
    "collapsed": true
   },
   "outputs": [],
   "source": [
    "n = 16\n",
    "ncols = 4\n",
    "noisescales = [0.05, 0.1, 0.2]\n",
    "\n",
    "def datafcn(xs, noisescale):\n",
    "    signal = np.sin(2 * np.pi * xs)\n",
    "    noise = noisescale * np.random.randn(len(xs))\n",
    "    return signal + noise\n",
    "\n",
    "# jaggednessfcn = lambda ys: np.sum(np.diff(ys, n=2)**2) / (len(ys) - 2)\n",
    "jaggednessfcn = lambda ys: np.sum(np.gradient(np.gradient(ys))**2) / (len(ys) - 2)\n",
    "\n",
    "plt.figure(figsize=(10,7))\n",
    "for row, noisescale in enumerate(noisescales):\n",
    "    xs = np.linspace(0, 1, n)\n",
    "    ys = datafcn(xs, noisescale)\n",
    "    \n",
    "    plt.subplot(len(noisescales), ncols, ncols * row + 1)\n",
    "    plt.plot(xs, ys)\n",
    "    plt.xticks([]); plt.yticks([])\n",
    "    plt.title(jaggednessfcn(ys))\n",
    "\n",
    "    newxs = xs\n",
    "    newys = ys\n",
    "    for col in range(1, ncols):\n",
    "        newxs = np.concatenate([newxs, xs + col], axis=0)\n",
    "        newys = np.concatenate([newys, ys], axis=0)\n",
    "\n",
    "        plt.subplot(len(noisescales), ncols, ncols * row + 1 + col)\n",
    "        plt.plot(newxs, newys)\n",
    "        plt.xticks([]); plt.yticks([])\n",
    "        plt.title(jaggednessfcn(newys))"
   ]
  },
  {
   "cell_type": "code",
   "execution_count": null,
   "metadata": {
    "collapsed": true
   },
   "outputs": [],
   "source": [
    "n = 16\n",
    "ncols = 4\n",
    "noisescale = 0.1\n",
    "scales = [1.0, np.sqrt(2), 2.0]\n",
    "\n",
    "def datafcn(xs, noisescale):\n",
    "    signal = np.sin(2 * np.pi * xs)\n",
    "    noise = noisescale * np.random.randn(len(xs))\n",
    "    return signal + noise\n",
    "\n",
    "#jaggednessfcn = lambda ys: np.sum(np.diff(ys, n=2)**2) / (1 * (len(ys) - 2))\n",
    "jaggednessfcn = lambda ys: np.sum(np.diff(ys, n=2)**2) / (np.sum(ys**2) * (len(ys) - 2))  # lucky guess!\n",
    "# jaggednessfcn = lambda ys: np.sum(np.gradient(np.gradient(ys))**2) / (len(ys) - 2)\n",
    "\n",
    "xs = np.linspace(0, 1, n)\n",
    "ys_orig = scale * datafcn(xs, noisescale)\n",
    "plt.figure(figsize=(10,7))\n",
    "for row, scale in enumerate(scales):\n",
    "    ys = scale * ys_orig\n",
    "    \n",
    "    plt.subplot(len(scales), ncols, ncols * row + 1)\n",
    "    plt.plot(xs, ys)\n",
    "    plt.xticks([]); plt.yticks([])\n",
    "    plt.title(jaggednessfcn(ys))\n",
    "\n",
    "    newxs = xs\n",
    "    newys = ys\n",
    "    for col in range(1, ncols):\n",
    "        newxs = np.concatenate([newxs, xs + col], axis=0)\n",
    "        newys = np.concatenate([newys, ys], axis=0)\n",
    "\n",
    "        plt.subplot(len(scales), ncols, ncols * row + 1 + col)\n",
    "        plt.plot(newxs, newys)\n",
    "        plt.xticks([]); plt.yticks([])\n",
    "        plt.title(jaggednessfcn(newys))"
   ]
  },
  {
   "cell_type": "code",
   "execution_count": null,
   "metadata": {
    "collapsed": true
   },
   "outputs": [],
   "source": []
  },
  {
   "cell_type": "code",
   "execution_count": null,
   "metadata": {
    "collapsed": true
   },
   "outputs": [],
   "source": []
  },
  {
   "cell_type": "code",
   "execution_count": null,
   "metadata": {
    "collapsed": true
   },
   "outputs": [],
   "source": []
  },
  {
   "cell_type": "code",
   "execution_count": null,
   "metadata": {
    "collapsed": true
   },
   "outputs": [],
   "source": []
  },
  {
   "cell_type": "code",
   "execution_count": null,
   "metadata": {
    "collapsed": true
   },
   "outputs": [],
   "source": []
  },
  {
   "cell_type": "code",
   "execution_count": null,
   "metadata": {
    "collapsed": true
   },
   "outputs": [],
   "source": []
  },
  {
   "cell_type": "code",
   "execution_count": null,
   "metadata": {
    "collapsed": true
   },
   "outputs": [],
   "source": []
  },
  {
   "cell_type": "code",
   "execution_count": null,
   "metadata": {
    "collapsed": true
   },
   "outputs": [],
   "source": []
  },
  {
   "cell_type": "code",
   "execution_count": null,
   "metadata": {
    "collapsed": true
   },
   "outputs": [],
   "source": []
  },
  {
   "cell_type": "code",
   "execution_count": null,
   "metadata": {
    "collapsed": true
   },
   "outputs": [],
   "source": []
  },
  {
   "cell_type": "code",
   "execution_count": null,
   "metadata": {
    "collapsed": true
   },
   "outputs": [],
   "source": []
  },
  {
   "cell_type": "code",
   "execution_count": null,
   "metadata": {
    "collapsed": true
   },
   "outputs": [],
   "source": []
  },
  {
   "cell_type": "code",
   "execution_count": null,
   "metadata": {
    "collapsed": true
   },
   "outputs": [],
   "source": []
  },
  {
   "cell_type": "code",
   "execution_count": null,
   "metadata": {
    "collapsed": true
   },
   "outputs": [],
   "source": []
  },
  {
   "cell_type": "code",
   "execution_count": null,
   "metadata": {
    "collapsed": true
   },
   "outputs": [],
   "source": []
  },
  {
   "cell_type": "code",
   "execution_count": null,
   "metadata": {
    "collapsed": true
   },
   "outputs": [],
   "source": []
  },
  {
   "cell_type": "code",
   "execution_count": null,
   "metadata": {
    "collapsed": true
   },
   "outputs": [],
   "source": []
  },
  {
   "cell_type": "code",
   "execution_count": null,
   "metadata": {
    "collapsed": true
   },
   "outputs": [],
   "source": []
  },
  {
   "cell_type": "code",
   "execution_count": null,
   "metadata": {
    "collapsed": true
   },
   "outputs": [],
   "source": []
  },
  {
   "cell_type": "code",
   "execution_count": null,
   "metadata": {
    "collapsed": true
   },
   "outputs": [],
   "source": []
  },
  {
   "cell_type": "code",
   "execution_count": null,
   "metadata": {
    "collapsed": true
   },
   "outputs": [],
   "source": []
  },
  {
   "cell_type": "code",
   "execution_count": null,
   "metadata": {
    "collapsed": true
   },
   "outputs": [],
   "source": []
  }
 ],
 "metadata": {
  "kernelspec": {
   "display_name": "Python 3",
   "language": "python",
   "name": "python3"
  },
  "language_info": {
   "codemirror_mode": {
    "name": "ipython",
    "version": 3
   },
   "file_extension": ".py",
   "mimetype": "text/x-python",
   "name": "python",
   "nbconvert_exporter": "python",
   "pygments_lexer": "ipython3",
   "version": "3.5.3"
  },
  "toc": {
   "colors": {
    "hover_highlight": "#DAA520",
    "running_highlight": "#FF0000",
    "selected_highlight": "#FFD700"
   },
   "moveMenuLeft": true,
   "nav_menu": {
    "height": "12px",
    "width": "252px"
   },
   "navigate_menu": true,
   "number_sections": true,
   "sideBar": true,
   "threshold": 4,
   "toc_cell": false,
   "toc_section_display": "block",
   "toc_window_display": false,
   "widenNotebook": false
  }
 },
 "nbformat": 4,
 "nbformat_minor": 2
}
