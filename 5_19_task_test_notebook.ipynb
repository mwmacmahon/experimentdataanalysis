{
 "cells": [
  {
   "cell_type": "code",
   "execution_count": 3,
   "metadata": {
    "collapsed": true
   },
   "outputs": [],
   "source": [
    "import pandas as pd\n",
    "import numpy as np\n",
    "import time\n",
    "import os\n",
    "\n",
    "%matplotlib inline\n",
    "import matplotlib.pyplot as plt"
   ]
  },
  {
   "cell_type": "code",
   "execution_count": null,
   "metadata": {
    "collapsed": true
   },
   "outputs": [],
   "source": []
  },
  {
   "cell_type": "code",
   "execution_count": 3,
   "metadata": {
    "collapsed": true
   },
   "outputs": [],
   "source": [
    "#Pandas -> fitfunction pipeline:\n",
    "#\n",
    "#    Current method: pandas -> matrices, (fitfunction takes matrices)\n",
    "#    QUESTION: how much do optimizations like vector -> scalar simplification matter?\n",
    "#        (.202, .202, .202) vs .202\n",
    "#        does it change based on the mathematical operation? exp(), a * b, etc.\n",
    "#        does numpy already optimize w/ repeat values?\n",
    "#    Idea is to implement simplification of multi-datasets (2D m x n, row = dataset, col = vals dataset)\n",
    "#        you want to be able to collapse to a (m, 1) or (1, n) vector if possible, broadcast back out\n",
    "#        QUESTION: does this work? does it make it faster? (again, by operation)\n",
    "#    QUESTION: how much time does it take to test for simplification?\n",
    "#        e.g. 30x30, 100x100 matrices: how long to test for scalarability/vectorability\n",
    "#    %%timeit on\n",
    "#        different \"fitfunction\" operations for each test, including very brutal ones\n",
    "#            realistic: exp(x + offset), offset in [0, 13000, 26000, .... 130000] \n",
    "#        matrices with raw numbers (not a view on a smaller vector/etc.)\n",
    "#        broadcasted vectors\n",
    "#        mix of scalars, vectors, matrices\n",
    "#        dataframes??\n",
    "#    alternative: is there some way to make pandas dataframes more optimized for this?\n",
    "#    also, what's nicer to use?"
   ]
  },
  {
   "cell_type": "code",
   "execution_count": null,
   "metadata": {
    "collapsed": true
   },
   "outputs": [],
   "source": []
  },
  {
   "cell_type": "code",
   "execution_count": 4,
   "metadata": {},
   "outputs": [
    {
     "data": {
      "text/plain": [
       "array([[ 3.,  3.,  3.,  3.,  3.,  3.,  3.,  3.,  3.,  3.],\n",
       "       [ 3.,  3.,  3.,  3.,  3.,  3.,  3.,  3.,  3.,  3.],\n",
       "       [ 3.,  3.,  3.,  3.,  3.,  3.,  3.,  3.,  3.,  3.],\n",
       "       [ 3.,  3.,  3.,  3.,  3.,  3.,  3.,  3.,  3.,  3.],\n",
       "       [ 3.,  3.,  3.,  3.,  3.,  3.,  3.,  3.,  3.,  3.],\n",
       "       [ 3.,  3.,  3.,  3.,  3.,  3.,  3.,  3.,  3.,  3.],\n",
       "       [ 3.,  3.,  3.,  3.,  3.,  3.,  3.,  3.,  3.,  3.],\n",
       "       [ 3.,  3.,  3.,  3.,  3.,  3.,  3.,  3.,  3.,  3.],\n",
       "       [ 3.,  3.,  3.,  3.,  3.,  3.,  3.,  3.,  3.,  3.],\n",
       "       [ 3.,  3.,  3.,  3.,  3.,  3.,  3.,  3.,  3.,  3.]])"
      ]
     },
     "execution_count": 4,
     "metadata": {},
     "output_type": "execute_result"
    }
   ],
   "source": [
    "full_matrix = np.ones((10 , 10))\n",
    "full_matrix = full_matrix * 3\n",
    "full_vector = np.ones(10)\n",
    "full_vector = full_vector * 3\n",
    "broadcast_matrix = np.broadcast_arrays(full_vector, full_matrix)\n",
    "scalar = 3\n",
    "\n",
    "full_matrix"
   ]
  },
  {
   "cell_type": "code",
   "execution_count": 5,
   "metadata": {},
   "outputs": [
    {
     "data": {
      "text/plain": [
       "array([ 3.,  3.,  3.,  3.,  3.,  3.,  3.,  3.,  3.,  3.])"
      ]
     },
     "execution_count": 5,
     "metadata": {},
     "output_type": "execute_result"
    }
   ],
   "source": [
    "full_vector"
   ]
  },
  {
   "cell_type": "code",
   "execution_count": 6,
   "metadata": {},
   "outputs": [
    {
     "data": {
      "text/plain": [
       "[array([[ 3.,  3.,  3.,  3.,  3.,  3.,  3.,  3.,  3.,  3.],\n",
       "        [ 3.,  3.,  3.,  3.,  3.,  3.,  3.,  3.,  3.,  3.],\n",
       "        [ 3.,  3.,  3.,  3.,  3.,  3.,  3.,  3.,  3.,  3.],\n",
       "        [ 3.,  3.,  3.,  3.,  3.,  3.,  3.,  3.,  3.,  3.],\n",
       "        [ 3.,  3.,  3.,  3.,  3.,  3.,  3.,  3.,  3.,  3.],\n",
       "        [ 3.,  3.,  3.,  3.,  3.,  3.,  3.,  3.,  3.,  3.],\n",
       "        [ 3.,  3.,  3.,  3.,  3.,  3.,  3.,  3.,  3.,  3.],\n",
       "        [ 3.,  3.,  3.,  3.,  3.,  3.,  3.,  3.,  3.,  3.],\n",
       "        [ 3.,  3.,  3.,  3.,  3.,  3.,  3.,  3.,  3.,  3.],\n",
       "        [ 3.,  3.,  3.,  3.,  3.,  3.,  3.,  3.,  3.,  3.]]),\n",
       " array([[ 3.,  3.,  3.,  3.,  3.,  3.,  3.,  3.,  3.,  3.],\n",
       "        [ 3.,  3.,  3.,  3.,  3.,  3.,  3.,  3.,  3.,  3.],\n",
       "        [ 3.,  3.,  3.,  3.,  3.,  3.,  3.,  3.,  3.,  3.],\n",
       "        [ 3.,  3.,  3.,  3.,  3.,  3.,  3.,  3.,  3.,  3.],\n",
       "        [ 3.,  3.,  3.,  3.,  3.,  3.,  3.,  3.,  3.,  3.],\n",
       "        [ 3.,  3.,  3.,  3.,  3.,  3.,  3.,  3.,  3.,  3.],\n",
       "        [ 3.,  3.,  3.,  3.,  3.,  3.,  3.,  3.,  3.,  3.],\n",
       "        [ 3.,  3.,  3.,  3.,  3.,  3.,  3.,  3.,  3.,  3.],\n",
       "        [ 3.,  3.,  3.,  3.,  3.,  3.,  3.,  3.,  3.,  3.],\n",
       "        [ 3.,  3.,  3.,  3.,  3.,  3.,  3.,  3.,  3.,  3.]])]"
      ]
     },
     "execution_count": 6,
     "metadata": {},
     "output_type": "execute_result"
    }
   ],
   "source": [
    "broadcast_matrix"
   ]
  },
  {
   "cell_type": "code",
   "execution_count": 7,
   "metadata": {
    "collapsed": true
   },
   "outputs": [],
   "source": [
    "#def a number of functions\n",
    "\n",
    "def cosine_exp(x):\n",
    "    return np.cos(x) * np.exp(x)\n",
    "\n",
    "def mag(x):\n",
    "    return np.sqrt( 2 * np.power(x, 2) )\n",
    "\n"
   ]
  },
  {
   "cell_type": "code",
   "execution_count": 8,
   "metadata": {
    "collapsed": true
   },
   "outputs": [],
   "source": [
    "fnc_dict = {'cos_exp': cosine_exp,\n",
    "            'mag': mag,           \n",
    "           }\n",
    "\n",
    "def time_run(data):\n",
    "    this_time = time.clock()\n",
    "    for fnc in fnc_dict:\n",
    "        for i in range(0, 10000):\n",
    "            fnc_dict[fnc](data)\n",
    "    return time.clock() - this_time"
   ]
  },
  {
   "cell_type": "code",
   "execution_count": 52,
   "metadata": {
    "scrolled": true
   },
   "outputs": [
    {
     "name": "stdout",
     "output_type": "stream",
     "text": [
      "Matrix time: \n",
      "0.11025583027821995\n",
      "Vector time: \n",
      "0.057704278177425294\n",
      "Scalar time: \n",
      "0.05195597271449515\n",
      "Matrix time: \n",
      "0.09793218811410043\n",
      "Vector time: \n",
      "0.05691582224744707\n",
      "Scalar time: \n",
      "0.053609450716976426\n",
      "Matrix time: \n",
      "0.09957514557800096\n",
      "Vector time: \n",
      "0.05362669271062259\n",
      "Scalar time: \n",
      "0.05212547028258996\n",
      "Matrix time: \n",
      "0.09765953081887346\n",
      "Vector time: \n",
      "0.06451808042265839\n",
      "Scalar time: \n",
      "0.06668355797592085\n",
      "1 loop, best of 3: 206 ms per loop\n"
     ]
    }
   ],
   "source": [
    "\n",
    "\n",
    "matrix_time = time_run(full_matrix)\n",
    "vector_time = time_run(full_vector)\n",
    "scalar_time = time_run(scalar)\n",
    "\n",
    "print('Matrix time: ')\n",
    "print(matrix_time)\n",
    "print('Vector time: ')\n",
    "print(vector_time)\n",
    "print('Scalar time: ')\n",
    "print(scalar_time)"
   ]
  },
  {
   "cell_type": "code",
   "execution_count": 54,
   "metadata": {
    "scrolled": true
   },
   "outputs": [
    {
     "name": "stdout",
     "output_type": "stream",
     "text": [
      "10 loops, best of 3: 57.6 ms per loop\n"
     ]
    }
   ],
   "source": [
    "%%timeit\n",
    "time_run(full_vector)"
   ]
  },
  {
   "cell_type": "code",
   "execution_count": null,
   "metadata": {
    "collapsed": true
   },
   "outputs": [],
   "source": []
  },
  {
   "cell_type": "code",
   "execution_count": 10,
   "metadata": {},
   "outputs": [
    {
     "data": {
      "text/plain": [
       "0.05706310978941971"
      ]
     },
     "execution_count": 10,
     "metadata": {},
     "output_type": "execute_result"
    }
   ],
   "source": [
    "vector_time"
   ]
  },
  {
   "cell_type": "code",
   "execution_count": 11,
   "metadata": {},
   "outputs": [
    {
     "data": {
      "text/plain": [
       "0.050591517289628685"
      ]
     },
     "execution_count": 11,
     "metadata": {},
     "output_type": "execute_result"
    }
   ],
   "source": [
    "scalar_time"
   ]
  },
  {
   "cell_type": "code",
   "execution_count": null,
   "metadata": {
    "collapsed": true
   },
   "outputs": [],
   "source": []
  },
  {
   "cell_type": "code",
   "execution_count": null,
   "metadata": {
    "collapsed": true
   },
   "outputs": [],
   "source": []
  },
  {
   "cell_type": "code",
   "execution_count": 96,
   "metadata": {},
   "outputs": [
    {
     "ename": "ModuleNotFoundError",
     "evalue": "No module named 'PyQt4'",
     "output_type": "error",
     "traceback": [
      "\u001b[0;31m---------------------------------------------------------------------------\u001b[0m",
      "\u001b[0;31mModuleNotFoundError\u001b[0m                       Traceback (most recent call last)",
      "\u001b[0;32m<ipython-input-96-6f9aefbfc060>\u001b[0m in \u001b[0;36m<module>\u001b[0;34m()\u001b[0m\n\u001b[0;32m----> 1\u001b[0;31m \u001b[1;32mfrom\u001b[0m \u001b[0mexperimentdataanalysis\u001b[0m\u001b[1;33m.\u001b[0m\u001b[0mparsing\u001b[0m\u001b[1;33m.\u001b[0m\u001b[0mscandataparsing\u001b[0m     \u001b[1;32mimport\u001b[0m \u001b[0manalyze_scan_filepath\u001b[0m\u001b[1;33m,\u001b[0m \u001b[0manalyze_string_for_dict_pairs\u001b[0m\u001b[1;33m\u001b[0m\u001b[0m\n\u001b[0m\u001b[1;32m      2\u001b[0m this_element_keyword_list = [(\"TRKR\", \"IsTRKR?\", True),\n\u001b[1;32m      3\u001b[0m                              (\"RSA\", \"IsRSA?\", True)]\n\u001b[1;32m      4\u001b[0m next_element_keyword_list = [(\"Ind\", \"Scan_2D_Index\"),\n\u001b[1;32m      5\u001b[0m                              (\"2Dscan\", [\"Scan_2D_Type\", \"Scan_1D_Type\"])]\n",
      "\u001b[0;32mC:\\Users\\Nathan\\experimentdataanalysis\\experimentdataanalysis\\parsing\\scandataparsing.py\u001b[0m in \u001b[0;36m<module>\u001b[0;34m()\u001b[0m\n\u001b[1;32m     11\u001b[0m \u001b[1;32mimport\u001b[0m \u001b[0mnumpy\u001b[0m \u001b[1;32mas\u001b[0m \u001b[0mnp\u001b[0m\u001b[1;33m\u001b[0m\u001b[0m\n\u001b[1;32m     12\u001b[0m \u001b[1;33m\u001b[0m\u001b[0m\n\u001b[0;32m---> 13\u001b[0;31m \u001b[1;32mimport\u001b[0m \u001b[0mexperimentdataanalysis\u001b[0m\u001b[1;33m.\u001b[0m\u001b[0mparsing\u001b[0m\u001b[1;33m.\u001b[0m\u001b[0mcsvparser\u001b[0m \u001b[1;32mas\u001b[0m \u001b[0mcsvparser\u001b[0m\u001b[1;33m\u001b[0m\u001b[0m\n\u001b[0m\u001b[1;32m     14\u001b[0m \u001b[1;32mfrom\u001b[0m \u001b[0mexperimentdataanalysis\u001b[0m\u001b[1;33m.\u001b[0m\u001b[0manalysis\u001b[0m\u001b[1;33m.\u001b[0m\u001b[0mdataclasses\u001b[0m\u001b[0;31m \u001b[0m\u001b[0;31m\\\u001b[0m\u001b[1;33m\u001b[0m\u001b[0m\n\u001b[1;32m     15\u001b[0m     \u001b[1;32mimport\u001b[0m \u001b[0mFitData\u001b[0m\u001b[1;33m,\u001b[0m \u001b[0mScanData\u001b[0m\u001b[1;33m\u001b[0m\u001b[0m\n",
      "\u001b[0;32mC:\\Users\\Nathan\\experimentdataanalysis\\experimentdataanalysis\\parsing\\csvparser.py\u001b[0m in \u001b[0;36m<module>\u001b[0;34m()\u001b[0m\n\u001b[1;32m     10\u001b[0m \u001b[1;32mimport\u001b[0m \u001b[0mos\u001b[0m\u001b[1;33m\u001b[0m\u001b[0m\n\u001b[1;32m     11\u001b[0m \u001b[1;33m\u001b[0m\u001b[0m\n\u001b[0;32m---> 12\u001b[0;31m \u001b[1;32mimport\u001b[0m \u001b[0mexperimentdataanalysis\u001b[0m\u001b[1;33m.\u001b[0m\u001b[0mguis\u001b[0m\u001b[1;33m.\u001b[0m\u001b[0mguistarter\u001b[0m \u001b[1;32mas\u001b[0m \u001b[0mguistarter\u001b[0m\u001b[1;33m\u001b[0m\u001b[0m\n\u001b[0m\u001b[1;32m     13\u001b[0m \u001b[1;33m\u001b[0m\u001b[0m\n\u001b[1;32m     14\u001b[0m \u001b[1;33m\u001b[0m\u001b[0m\n",
      "\u001b[0;32mC:\\Users\\Nathan\\experimentdataanalysis\\experimentdataanalysis\\guis\\guistarter.py\u001b[0m in \u001b[0;36m<module>\u001b[0;34m()\u001b[0m\n\u001b[1;32m     10\u001b[0m \"\"\"\n\u001b[1;32m     11\u001b[0m \u001b[1;33m\u001b[0m\u001b[0m\n\u001b[0;32m---> 12\u001b[0;31m \u001b[1;32mfrom\u001b[0m \u001b[0mPyQt4\u001b[0m \u001b[1;32mimport\u001b[0m \u001b[0mQtGui\u001b[0m\u001b[1;33m\u001b[0m\u001b[0m\n\u001b[0m\u001b[1;32m     13\u001b[0m \u001b[1;33m\u001b[0m\u001b[0m\n\u001b[1;32m     14\u001b[0m \u001b[1;33m\u001b[0m\u001b[0m\n",
      "\u001b[0;31mModuleNotFoundError\u001b[0m: No module named 'PyQt4'"
     ]
    }
   ],
   "source": [
    "from experimentdataanalysis.parsing.scandataparsing \\\n",
    "    import analyze_scan_filepath, analyze_string_for_dict_pairs\n",
    "this_element_keyword_list = [(\"TRKR\", \"IsTRKR?\", True),\n",
    "                             (\"RSA\", \"IsRSA?\", True)]\n",
    "next_element_keyword_list = [(\"Ind\", \"Scan_2D_Index\"),\n",
    "                             (\"2Dscan\", [\"Scan_2D_Type\", \"Scan_1D_Type\"])]\n",
    "in_this_element_keyword_list = [(\"Vcm\", \"Electric Field (V/cm)\"),\n",
    "                                (\"mT\", \"Magnetic Field (mT)\"),\n",
    "                                (\"K\", \"Set Temperature (K)\"),\n",
    "                                (\"nm\", \"Wavelength (nm)\"),\n",
    "                                (\"ps\", \"Delay Time (ps)\"),\n",
    "                                (\"run\", \"RunIndex\"),\n",
    "                                (\"V\", \"Voltage (V)\"),\n",
    "                                (\"x\", \"Scan_2D_Coord\"),\n",
    "                                (\"uWpump\", \"Pump Power (uW)\"),\n",
    "                                (\"uWprobe\", \"Probe Power (uW)\"),\n",
    "                                (\"TestPhaseShift\", \"TestPhaseShift Experiment #\"),\n",
    "                                (\"repeats\", \"# repeats\"),\n",
    "                               ]\n",
    "parsing_keyword_lists = [this_element_keyword_list,\n",
    "                         next_element_keyword_list,\n",
    "                         in_this_element_keyword_list]\n",
    "\n",
    "def analyze_filepath_and_header(filepath, header_string, existing_info_dict=None):\n",
    "    if existing_info_dict is None:\n",
    "        existing_info_dict = {}\n",
    "    info_dict = analyze_scan_filepath(filepath, existing_info_dict, parsing_keyword_lists)\n",
    "    analyze_string_for_dict_pairs(header_string, info_dict)\n",
    "    if {'Scan_2D_Type', 'Scan_2D_Coord'}.issubset(info_dict.keys()):\n",
    "        info_dict[info_dict['Scan_2D_Type']] = info_dict['Scan_2D_Coord']\n",
    "    if 'BExternal' in info_dict.keys():\n",
    "        info_dict['Magnetic Field (mT)'] = info_dict['BExternal']\n",
    "    return info_dict\n",
    "\n",
    "def get_inflection_points(series):\n",
    "    trend_sign = np.sign(series.iloc[1] - series.iloc[0])\n",
    "    yvals_iterator = series.items()\n",
    "    last_yind, last_yval = next(yvals_iterator)  # pop off and add first (ind, val) pair\n",
    "    inflection_point_indices = [last_yind]\n",
    "    inflection_point_values = [last_yval]\n",
    "    for y_ind, y_val in yvals_iterator:\n",
    "        if np.sign(y_val - last_yval) == -1 * trend_sign:\n",
    "            trend_sign = -1 * trend_sign\n",
    "            inflection_point_indices.append(last_yind)\n",
    "            inflection_point_values.append(last_yval)\n",
    "        last_yind, last_yval = y_ind, y_val\n",
    "    inflection_point_indices.append(y_ind)  # add last (ind, val) pair, too\n",
    "    inflection_point_values.append(y_val)\n",
    "    return inflection_point_indices, inflection_point_values\n"
   ]
  },
  {
   "cell_type": "code",
   "execution_count": null,
   "metadata": {
    "collapsed": true
   },
   "outputs": [],
   "source": []
  },
  {
   "cell_type": "code",
   "execution_count": 12,
   "metadata": {},
   "outputs": [
    {
     "data": {
      "text/plain": [
       "array([[  2.00000000e+02,   4.39000000e-01,   9.45000000e-04,\n",
       "          5.80000000e-05,   2.52928000e-01,   7.89520000e-02,\n",
       "          7.90000000e-05,   5.51000000e-05],\n",
       "       [  2.00400000e+02,   4.39000000e-01,   1.81900000e-03,\n",
       "          7.81000000e-04,   7.38559000e-01,   2.54511000e-01,\n",
       "          1.00000000e-03,   2.02000000e-04],\n",
       "       [  2.00800000e+02,   4.39000000e-01,   4.67000000e-04,\n",
       "          6.50000000e-05,  -4.94220000e-02,   1.61195000e-01,\n",
       "         -1.20000000e-05,   5.80000000e-05],\n",
       "       [  2.01200000e+02,   4.39000000e-01,   6.24000000e-04,\n",
       "          7.30000000e-05,   7.78810000e-02,   9.19440000e-02,\n",
       "          9.52000000e-04,   5.40000000e-05],\n",
       "       [  2.01600000e+02,   4.39000000e-01,   1.09100000e-03,\n",
       "          3.33000000e-04,   1.75833000e-01,   1.77269000e-01,\n",
       "          1.00000000e-03,   2.23000000e-04]])"
      ]
     },
     "execution_count": 12,
     "metadata": {},
     "output_type": "execute_result"
    }
   ],
   "source": [
    "new_data = np.array([[200.0, 0.439, 0.000945, 0.000058, 0.252928, 0.078952, 0.000079, 0.0000551],\n",
    "                    [200.4, 0.439, 0.001819, 0.000781, 0.738559, 0.254511, 0.001000, 0.000202],\n",
    "                    [200.8, 0.439, 0.000467, 0.000065, -0.049422, 0.161195, -0.000012, 0.000058],\n",
    "                    [201.2, 0.439, 0.000624, 0.000073, 0.077881, 0.091944, 0.000952, 0.000054],\n",
    "                    [201.6, 0.439, 0.001091, 0.000333, 0.175833, 0.177269, 0.001000, 0.000223]])\n",
    "\n",
    "new_data"
   ]
  },
  {
   "cell_type": "code",
   "execution_count": 15,
   "metadata": {},
   "outputs": [
    {
     "data": {
      "text/html": [
       "<div>\n",
       "<table border=\"1\" class=\"dataframe\">\n",
       "  <thead>\n",
       "    <tr style=\"text-align: right;\">\n",
       "      <th></th>\n",
       "      <th>0</th>\n",
       "      <th>1</th>\n",
       "      <th>2</th>\n",
       "      <th>3</th>\n",
       "      <th>4</th>\n",
       "      <th>5</th>\n",
       "      <th>6</th>\n",
       "      <th>7</th>\n",
       "    </tr>\n",
       "  </thead>\n",
       "  <tbody>\n",
       "    <tr>\n",
       "      <th>0</th>\n",
       "      <td>200.0</td>\n",
       "      <td>0.439</td>\n",
       "      <td>0.000945</td>\n",
       "      <td>0.000058</td>\n",
       "      <td>0.252928</td>\n",
       "      <td>0.078952</td>\n",
       "      <td>0.000079</td>\n",
       "      <td>0.000055</td>\n",
       "    </tr>\n",
       "    <tr>\n",
       "      <th>1</th>\n",
       "      <td>200.4</td>\n",
       "      <td>0.439</td>\n",
       "      <td>0.001819</td>\n",
       "      <td>0.000781</td>\n",
       "      <td>0.738559</td>\n",
       "      <td>0.254511</td>\n",
       "      <td>0.001000</td>\n",
       "      <td>0.000202</td>\n",
       "    </tr>\n",
       "    <tr>\n",
       "      <th>2</th>\n",
       "      <td>200.8</td>\n",
       "      <td>0.439</td>\n",
       "      <td>0.000467</td>\n",
       "      <td>0.000065</td>\n",
       "      <td>-0.049422</td>\n",
       "      <td>0.161195</td>\n",
       "      <td>-0.000012</td>\n",
       "      <td>0.000058</td>\n",
       "    </tr>\n",
       "    <tr>\n",
       "      <th>3</th>\n",
       "      <td>201.2</td>\n",
       "      <td>0.439</td>\n",
       "      <td>0.000624</td>\n",
       "      <td>0.000073</td>\n",
       "      <td>0.077881</td>\n",
       "      <td>0.091944</td>\n",
       "      <td>0.000952</td>\n",
       "      <td>0.000054</td>\n",
       "    </tr>\n",
       "    <tr>\n",
       "      <th>4</th>\n",
       "      <td>201.6</td>\n",
       "      <td>0.439</td>\n",
       "      <td>0.001091</td>\n",
       "      <td>0.000333</td>\n",
       "      <td>0.175833</td>\n",
       "      <td>0.177269</td>\n",
       "      <td>0.001000</td>\n",
       "      <td>0.000223</td>\n",
       "    </tr>\n",
       "  </tbody>\n",
       "</table>\n",
       "</div>"
      ],
      "text/plain": [
       "       0      1         2         3         4         5         6         7\n",
       "0  200.0  0.439  0.000945  0.000058  0.252928  0.078952  0.000079  0.000055\n",
       "1  200.4  0.439  0.001819  0.000781  0.738559  0.254511  0.001000  0.000202\n",
       "2  200.8  0.439  0.000467  0.000065 -0.049422  0.161195 -0.000012  0.000058\n",
       "3  201.2  0.439  0.000624  0.000073  0.077881  0.091944  0.000952  0.000054\n",
       "4  201.6  0.439  0.001091  0.000333  0.175833  0.177269  0.001000  0.000223"
      ]
     },
     "execution_count": 15,
     "metadata": {},
     "output_type": "execute_result"
    }
   ],
   "source": [
    "data_frame = pd.DataFrame(new_data)\n",
    "\n",
    "data_frame\n"
   ]
  },
  {
   "cell_type": "code",
   "execution_count": 33,
   "metadata": {},
   "outputs": [
    {
     "data": {
      "text/html": [
       "<div>\n",
       "<table border=\"1\" class=\"dataframe\">\n",
       "  <thead>\n",
       "    <tr style=\"text-align: right;\">\n",
       "      <th></th>\n",
       "      <th>0</th>\n",
       "      <th>1</th>\n",
       "      <th>2</th>\n",
       "      <th>3</th>\n",
       "      <th>4</th>\n",
       "      <th>5</th>\n",
       "      <th>6</th>\n",
       "      <th>7</th>\n",
       "    </tr>\n",
       "  </thead>\n",
       "  <tbody>\n",
       "    <tr>\n",
       "      <th>0</th>\n",
       "      <td>200.0</td>\n",
       "      <td>0.439</td>\n",
       "      <td>0.000945</td>\n",
       "      <td>0.000058</td>\n",
       "      <td>0.252928</td>\n",
       "      <td>0.078952</td>\n",
       "      <td>0.000079</td>\n",
       "      <td>0.000055</td>\n",
       "    </tr>\n",
       "    <tr>\n",
       "      <th>1</th>\n",
       "      <td>200.4</td>\n",
       "      <td>0.439</td>\n",
       "      <td>0.001819</td>\n",
       "      <td>0.000781</td>\n",
       "      <td>0.738559</td>\n",
       "      <td>0.254511</td>\n",
       "      <td>0.001000</td>\n",
       "      <td>0.000202</td>\n",
       "    </tr>\n",
       "    <tr>\n",
       "      <th>2</th>\n",
       "      <td>200.8</td>\n",
       "      <td>0.439</td>\n",
       "      <td>0.000467</td>\n",
       "      <td>0.000065</td>\n",
       "      <td>-0.049422</td>\n",
       "      <td>0.161195</td>\n",
       "      <td>-0.000012</td>\n",
       "      <td>0.000058</td>\n",
       "    </tr>\n",
       "    <tr>\n",
       "      <th>3</th>\n",
       "      <td>201.2</td>\n",
       "      <td>0.439</td>\n",
       "      <td>0.000624</td>\n",
       "      <td>0.000073</td>\n",
       "      <td>0.077881</td>\n",
       "      <td>0.091944</td>\n",
       "      <td>0.000952</td>\n",
       "      <td>0.000054</td>\n",
       "    </tr>\n",
       "    <tr>\n",
       "      <th>4</th>\n",
       "      <td>201.6</td>\n",
       "      <td>0.439</td>\n",
       "      <td>0.001091</td>\n",
       "      <td>0.000333</td>\n",
       "      <td>0.175833</td>\n",
       "      <td>0.177269</td>\n",
       "      <td>0.001000</td>\n",
       "      <td>0.000223</td>\n",
       "    </tr>\n",
       "  </tbody>\n",
       "</table>\n",
       "</div>"
      ],
      "text/plain": [
       "       0      1         2         3         4         5         6         7\n",
       "0  200.0  0.439  0.000945  0.000058  0.252928  0.078952  0.000079  0.000055\n",
       "1  200.4  0.439  0.001819  0.000781  0.738559  0.254511  0.001000  0.000202\n",
       "2  200.8  0.439  0.000467  0.000065 -0.049422  0.161195 -0.000012  0.000058\n",
       "3  201.2  0.439  0.000624  0.000073  0.077881  0.091944  0.000952  0.000054\n",
       "4  201.6  0.439  0.001091  0.000333  0.175833  0.177269  0.001000  0.000223"
      ]
     },
     "execution_count": 33,
     "metadata": {},
     "output_type": "execute_result"
    }
   ],
   "source": [
    "data_frame[data_frame[1] == data_frame[1][0]]"
   ]
  },
  {
   "cell_type": "code",
   "execution_count": 51,
   "metadata": {},
   "outputs": [
    {
     "name": "stdout",
     "output_type": "stream",
     "text": [
      "100 loops, best of 3: 3.2 ms per loop\n"
     ]
    }
   ],
   "source": [
    "%%timeit\n",
    "\n",
    "const_vals = {}\n",
    "col_titles = list(data_frame)\n",
    "\n",
    "for col in col_titles:\n",
    "    if len(data_frame[data_frame[col] == data_frame[col][0]]) == len(data_frame):\n",
    "        const_vals[col] = data_frame[col][0]\n",
    "        \n",
    "const_vals"
   ]
  },
  {
   "cell_type": "code",
   "execution_count": 37,
   "metadata": {},
   "outputs": [
    {
     "data": {
      "text/plain": [
       "[0, 1, 2, 3, 4, 5, 6, 7]"
      ]
     },
     "execution_count": 37,
     "metadata": {},
     "output_type": "execute_result"
    }
   ],
   "source": []
  },
  {
   "cell_type": "code",
   "execution_count": null,
   "metadata": {
    "collapsed": true
   },
   "outputs": [],
   "source": []
  },
  {
   "cell_type": "code",
   "execution_count": null,
   "metadata": {
    "collapsed": true
   },
   "outputs": [],
   "source": []
  },
  {
   "cell_type": "code",
   "execution_count": null,
   "metadata": {
    "collapsed": true
   },
   "outputs": [],
   "source": []
  },
  {
   "cell_type": "code",
   "execution_count": null,
   "metadata": {
    "collapsed": true
   },
   "outputs": [],
   "source": []
  }
 ],
 "metadata": {
  "kernelspec": {
   "display_name": "Python 3",
   "language": "python",
   "name": "python3"
  },
  "language_info": {
   "codemirror_mode": {
    "name": "ipython",
    "version": 3
   },
   "file_extension": ".py",
   "mimetype": "text/x-python",
   "name": "python",
   "nbconvert_exporter": "python",
   "pygments_lexer": "ipython3",
   "version": "3.6.0"
  }
 },
 "nbformat": 4,
 "nbformat_minor": 2
}
